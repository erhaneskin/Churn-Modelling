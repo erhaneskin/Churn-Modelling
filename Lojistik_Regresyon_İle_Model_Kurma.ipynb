{
  "nbformat": 4,
  "nbformat_minor": 0,
  "metadata": {
    "colab": {
      "name": "Lojistik Regresyon İle Model Kurma.ipynb",
      "provenance": [],
      "mount_file_id": "1IVZ1cwLE8YvSZ8wX046M7GXSPCiEtc6i",
      "authorship_tag": "ABX9TyN+BeHLTUOfnhuyyY63jLyi",
      "include_colab_link": true
    },
    "kernelspec": {
      "name": "python3",
      "display_name": "Python 3"
    },
    "language_info": {
      "name": "python"
    }
  },
  "cells": [
    {
      "cell_type": "markdown",
      "metadata": {
        "id": "view-in-github",
        "colab_type": "text"
      },
      "source": [
        "<a href=\"https://colab.research.google.com/github/erhnk/Churn-Modelling/blob/main/Lojistik_Regresyon_%C4%B0le_Model_Kurma.ipynb\" target=\"_parent\"><img src=\"https://colab.research.google.com/assets/colab-badge.svg\" alt=\"Open In Colab\"/></a>"
      ]
    },
    {
      "cell_type": "markdown",
      "metadata": {
        "id": "bugqVXi7R8kw"
      },
      "source": [
        "**LOJİSTİK REGRESYON**"
      ]
    },
    {
      "cell_type": "code",
      "metadata": {
        "id": "1XIgKwBfFtzj"
      },
      "source": [
        "#Standart parametreler ile model kuralım ve başarısını test edelim."
      ],
      "execution_count": 131,
      "outputs": []
    },
    {
      "cell_type": "code",
      "metadata": {
        "id": "FwbAJmORXGfW"
      },
      "source": [
        "sınıflandirici_logistic = LogisticRegression()\n",
        "sınıflandirici_logistic.fit(X_train,y_train)\n",
        "y_pred_logistic = sınıflandirici_logistic.predict(X_test)"
      ],
      "execution_count": 145,
      "outputs": []
    },
    {
      "cell_type": "code",
      "metadata": {
        "colab": {
          "base_uri": "https://localhost:8080/"
        },
        "id": "7pYYEhdJXSdf",
        "outputId": "754fb29b-3deb-4c37-a8c0-662cf1d41cb9"
      },
      "source": [
        "print('isabetlilik değeri:', accuracy_score(y_test,(y_pred_logistic)>0.5)*1)"
      ],
      "execution_count": 146,
      "outputs": [
        {
          "output_type": "stream",
          "text": [
            "isabetlilik değeri: 0.8333333333333334\n"
          ],
          "name": "stdout"
        }
      ]
    },
    {
      "cell_type": "code",
      "metadata": {
        "colab": {
          "base_uri": "https://localhost:8080/",
          "height": 317
        },
        "id": "wA3JqJAkXW-J",
        "outputId": "bcf1c78a-807f-4c0d-b1d7-881a837fcc1f"
      },
      "source": [
        "logistic_confusion = sns.heatmap(confusion_matrix(y_test,((y_pred_logistic)>0.5)*1), annot=True, fmt='g');\n",
        "print(\"Lojistik Regresyon için confusion_matrix :\\n\\n\",logistic_confusion)"
      ],
      "execution_count": 140,
      "outputs": [
        {
          "output_type": "stream",
          "text": [
            "Lojistik Regresyon için confusion_matrix :\n",
            "\n",
            " AxesSubplot(0.125,0.125;0.62x0.755)\n"
          ],
          "name": "stdout"
        },
        {
          "output_type": "display_data",
          "data": {
            "image/png": "[encoded data removed]",
            "text/plain": [
              "<Figure size 432x288 with 2 Axes>"
            ]
          },
          "metadata": {
            "tags": [],
            "needs_background": "light"
          }
        }
      ]
    },
    {
      "cell_type": "code",
      "metadata": {
        "colab": {
          "base_uri": "https://localhost:8080/",
          "height": 294
        },
        "id": "VWbwpEZmXeJk",
        "outputId": "7b2d51ac-8263-4dd7-92c0-64dc3abde091"
      },
      "source": [
        "ypo,dpo,esikDeger = roc_curve(y_test,((y_pred_logistic)>0.5)*1)\n",
        "aucDegeri = auc(ypo,dpo)\n",
        "plt.figure()\n",
        "plt.plot(ypo,dpo,label = \"AUC %0.2f\" %aucDegeri)\n",
        "plt.plot([0,1],[0,1],\"k--\")\n",
        "plt.xlim([0.0,1.0])\n",
        "plt.ylim([0.0,1.05])\n",
        "plt.xlabel(\"Yanlış Pozitif Oranı(YPO)\")\n",
        "plt.ylabel(\"Doğru Pozitif Oranı(DPO)\")\n",
        "plt.title(\"ROC Eğrisi\")\n",
        "plt.legend(loc = \"best\")\n",
        "plt.show()"
      ],
      "execution_count": 147,
      "outputs": [
        {
          "output_type": "display_data",
          "data": {
            "image/png": "[encoded data removed]",
            "text/plain": [
              "<Figure size 432x288 with 1 Axes>"
            ]
          },
          "metadata": {
            "tags": [],
            "needs_background": "light"
          }
        }
      ]
    },
    {
      "cell_type": "code",
      "metadata": {
        "colab": {
          "base_uri": "https://localhost:8080/"
        },
        "id": "6Bt3wl5oXjFo",
        "outputId": "a1b06e79-2636-42ac-cb32-67d1b695896d"
      },
      "source": [
        "print(classification_report(y_test,((y_pred_logistic)>0.5)*1))"
      ],
      "execution_count": 149,
      "outputs": [
        {
          "output_type": "stream",
          "text": [
            "              precision    recall  f1-score   support\n",
            "\n",
            "           0       0.85      0.96      0.90      2416\n",
            "           1       0.65      0.32      0.43       584\n",
            "\n",
            "    accuracy                           0.83      3000\n",
            "   macro avg       0.75      0.64      0.66      3000\n",
            "weighted avg       0.81      0.83      0.81      3000\n",
            "\n"
          ],
          "name": "stdout"
        }
      ]
    },
    {
      "cell_type": "code",
      "metadata": {
        "id": "smPlW6RpF3km"
      },
      "source": [
        "#Standart parametreler ile kurulan modelde isabetlilik skoru 0.8333, doğru tahmin sayısı 2500, auc skoru 0.64 ve f1-score'u 0.43 olarak elde edilmiştir."
      ],
      "execution_count": 77,
      "outputs": []
    },
    {
      "cell_type": "markdown",
      "metadata": {
        "id": "Nzv0sGQaXkgc"
      },
      "source": [
        "LOJİSTİK REGRESYON İÇİN MODEL TUNİNG"
      ]
    },
    {
      "cell_type": "code",
      "metadata": {
        "colab": {
          "base_uri": "https://localhost:8080/"
        },
        "id": "qu3LYgnCDmyD",
        "outputId": "609fa301-925f-4da3-808c-f045d3950b13"
      },
      "source": [
        "tuned_parameters = [{'solver': ['newton-cg','lbfgs','liblinear','sag', 'saga'],\n",
        "                     \"C\": [0.1,0.01,1,5,10,20,50,80,100,200],\n",
        "                     \"max_iter\":[10,15,30,50,100,200,400,500,1000],\n",
        "                     'penalty': ['none','l1',\"l2\",'elasticnet']}]\n",
        "\n",
        "cValidation_search = GridSearchCV(sınıflandirici_logistic, tuned_parameters, cv=10, scoring ='accuracy',n_jobs=-1,error_score=0)\n",
        "cValidation_search.fit(X_train, y_train)"
      ],
      "execution_count": 150,
      "outputs": [
        {
          "output_type": "execute_result",
          "data": {
            "text/plain": [
              "GridSearchCV(cv=10, error_score=0,\n",
              "             estimator=LogisticRegression(C=1.0, class_weight=None, dual=False,\n",
              "                                          fit_intercept=True,\n",
              "                                          intercept_scaling=1, l1_ratio=None,\n",
              "                                          max_iter=100, multi_class='auto',\n",
              "                                          n_jobs=None, penalty='l2',\n",
              "                                          random_state=None, solver='lbfgs',\n",
              "                                          tol=0.0001, verbose=0,\n",
              "                                          warm_start=False),\n",
              "             iid='deprecated', n_jobs=-1,\n",
              "             param_grid=[{'C': [0.1, 0.01, 1, 5, 10, 20, 50, 80, 100, 200],\n",
              "                          'max_iter': [10, 15, 30, 50, 100, 200, 400, 500,\n",
              "                                       1000],\n",
              "                          'penalty': ['none', 'l1', 'l2', 'elasticnet'],\n",
              "                          'solver': ['newton-cg', 'lbfgs', 'liblinear', 'sag',\n",
              "                                     'saga']}],\n",
              "             pre_dispatch='2*n_jobs', refit=True, return_train_score=False,\n",
              "             scoring='accuracy', verbose=0)"
            ]
          },
          "metadata": {
            "tags": []
          },
          "execution_count": 150
        }
      ]
    },
    {
      "cell_type": "code",
      "metadata": {
        "colab": {
          "base_uri": "https://localhost:8080/"
        },
        "id": "eC8UZyxhER9-",
        "outputId": "2ae52249-a063-4b1f-ce19-a4df78084b79"
      },
      "source": [
        "print('En iyi model : ', cValidation_search.best_params_)\n",
        "print('Bu modelin ortalama skoru (accuracy) :', cValidation_search.best_score_)"
      ],
      "execution_count": 151,
      "outputs": [
        {
          "output_type": "stream",
          "text": [
            "En iyi model :  {'C': 1, 'max_iter': 10, 'penalty': 'l2', 'solver': 'lbfgs'}\n",
            "Bu modelin ortalama skoru (accuracy) : 0.8208571428571428\n"
          ],
          "name": "stdout"
        }
      ]
    },
    {
      "cell_type": "markdown",
      "metadata": {
        "id": "TO9O7TZDYngu"
      },
      "source": [
        "En iyi parametrelere göre model kurulması"
      ]
    },
    {
      "cell_type": "code",
      "metadata": {
        "id": "U0a7WHaIDdHf"
      },
      "source": [
        "sınıflandirici_logistic1 = LogisticRegression(C = 1, max_iter=10, penalty='l2', solver= 'lbfgs')\n",
        "sınıflandirici_logistic1.fit(X_train,y_train)\n",
        "y_pred_logistic1 = sınıflandirici_logistic1.predict(X_test)"
      ],
      "execution_count": 152,
      "outputs": []
    },
    {
      "cell_type": "markdown",
      "metadata": {
        "id": "9AKCAfPoY0aC"
      },
      "source": [
        "En iyi parametrelere göre performans"
      ]
    },
    {
      "cell_type": "code",
      "metadata": {
        "colab": {
          "base_uri": "https://localhost:8080/"
        },
        "id": "slS2gGGwDe4f",
        "outputId": "288f3445-5d50-48b6-c8f1-f2742311a8e0"
      },
      "source": [
        "print('isabetlilik değeri:', accuracy_score(y_test,y_pred_logistic1))"
      ],
      "execution_count": 153,
      "outputs": [
        {
          "output_type": "stream",
          "text": [
            "isabetlilik değeri: 0.8343333333333334\n"
          ],
          "name": "stdout"
        }
      ]
    },
    {
      "cell_type": "code",
      "metadata": {
        "colab": {
          "base_uri": "https://localhost:8080/",
          "height": 294
        },
        "id": "B6pkgGkNDilu",
        "outputId": "cf3466f7-3f93-4e61-ed3f-336398d6ba03"
      },
      "source": [
        "ypo,dpo,esikDeger = roc_curve(y_test,y_pred_logistic1)\n",
        "aucDegeri = auc(ypo,dpo)\n",
        "plt.figure()\n",
        "plt.plot(ypo,dpo,label = \"AUC %0.2f\" %aucDegeri)\n",
        "plt.plot([0,1],[0,1],\"k--\")\n",
        "plt.xlim([0.0,1.0])\n",
        "plt.ylim([0.0,1.05])\n",
        "plt.xlabel(\"Yanlış Pozitif Oranı(YPO)\")\n",
        "plt.ylabel(\"Doğru Pozitif Oranı(DPO)\")\n",
        "plt.title(\"ROC Eğrisi\")\n",
        "plt.legend(loc = \"best\")\n",
        "plt.show()"
      ],
      "execution_count": 154,
      "outputs": [
        {
          "output_type": "display_data",
          "data": {
            "image/png": "[encoded data removed]",
            "text/plain": [
              "<Figure size 432x288 with 1 Axes>"
            ]
          },
          "metadata": {
            "tags": [],
            "needs_background": "light"
          }
        }
      ]
    },
    {
      "cell_type": "code",
      "metadata": {
        "colab": {
          "base_uri": "https://localhost:8080/",
          "height": 317
        },
        "id": "Gyjt6EPoYDar",
        "outputId": "1cc93a60-0b6c-46b4-c29a-74662e1372b4"
      },
      "source": [
        "logistic1_confusion = sns.heatmap(confusion_matrix(y_test,y_pred_logistic1), annot=True, fmt='g');\n",
        "print(\"Destek Vektör Makineleri için confusion_matrix :\\n\\n\",logistic1_confusion)"
      ],
      "execution_count": 155,
      "outputs": [
        {
          "output_type": "stream",
          "text": [
            "Destek Vektör Makineleri için confusion_matrix :\n",
            "\n",
            " AxesSubplot(0.125,0.125;0.62x0.755)\n"
          ],
          "name": "stdout"
        },
        {
          "output_type": "display_data",
          "data": {
            "image/png": "[encoded data removed]",
            "text/plain": [
              "<Figure size 432x288 with 2 Axes>"
            ]
          },
          "metadata": {
            "tags": [],
            "needs_background": "light"
          }
        }
      ]
    },
    {
      "cell_type": "code",
      "metadata": {
        "colab": {
          "base_uri": "https://localhost:8080/"
        },
        "id": "8UDsTbV6YYjT",
        "outputId": "2aa100d7-c7ef-41b7-b2fa-838f7fe5120c"
      },
      "source": [
        "print(classification_report(y_test,y_pred_logistic1))"
      ],
      "execution_count": 156,
      "outputs": [
        {
          "output_type": "stream",
          "text": [
            "              precision    recall  f1-score   support\n",
            "\n",
            "           0       0.85      0.96      0.90      2416\n",
            "           1       0.66      0.31      0.42       584\n",
            "\n",
            "    accuracy                           0.83      3000\n",
            "   macro avg       0.75      0.64      0.66      3000\n",
            "weighted avg       0.81      0.83      0.81      3000\n",
            "\n"
          ],
          "name": "stdout"
        }
      ]
    },
    {
      "cell_type": "code",
      "metadata": {
        "id": "AGRHsod9GMUa"
      },
      "source": [
        "#En iyi parametreler ile kurulan LogisticRegression modelinin başarısı ölçüldüğünde isabetlilik değeri 0.8343, doğru tahmin sayısı 2503 ve auc skoru 0.64 olarak elde edilmiştir.\n",
        "#Yeni parametreler ile kurulan modelin isabetlilik skoru daha yüksek olmasına rağmen bankadan ayrılan kişi sayısını tespit etmede 2 kişiyi kaçırmıştır.\n",
        "#Yeni parametreler ile kurulan modelin f1-score'u 0,01 azalmıştır.\n",
        "#Bu modelin destek vektör makinelerine göre performansının biraz daha düşük kaldığı söylenebilir."
      ],
      "execution_count": null,
      "outputs": []
    }
  ]
}