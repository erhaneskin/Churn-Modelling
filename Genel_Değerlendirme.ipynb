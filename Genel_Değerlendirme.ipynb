{
  "nbformat": 4,
  "nbformat_minor": 0,
  "metadata": {
    "colab": {
      "name": "Genel Değerlendirme.ipynb",
      "provenance": [],
      "mount_file_id": "1IVZ1cwLE8YvSZ8wX046M7GXSPCiEtc6i",
      "authorship_tag": "ABX9TyM3kHPWk++J7cgdLzds34YE",
      "include_colab_link": true
    },
    "kernelspec": {
      "name": "python3",
      "display_name": "Python 3"
    },
    "language_info": {
      "name": "python"
    }
  },
  "cells": [
    {
      "cell_type": "markdown",
      "metadata": {
        "id": "view-in-github",
        "colab_type": "text"
      },
      "source": [
        "<a href=\"https://colab.research.google.com/github/erhnk/Churn-Modelling/blob/main/Genel_De%C4%9Ferlendirme.ipynb\" target=\"_parent\"><img src=\"https://colab.research.google.com/assets/colab-badge.svg\" alt=\"Open In Colab\"/></a>"
      ]
    },
    {
      "cell_type": "markdown",
      "metadata": {
        "id": "w_6v0fmHYgBf"
      },
      "source": [
        "**Genel Değerlendirme**"
      ]
    },
    {
      "cell_type": "code",
      "metadata": {
        "id": "VLhJPGJWntVu"
      },
      "source": [
        "'''\n",
        "-Destek Vektör Makinesi ile kurulan modelin isabetlilik skoru 0.858 olarak elde edildi.\n",
        "-Destek vektör makinesi ile kurulan model 2574 doğru ve 426 yanlış sınıflandırma yapmıştır.\n",
        "-Bankadan ayrılan 259, bankada kalan 2315 kişi doğru sınıflandırılmıştır.\n",
        "-SVM ile kurulan modeli AUC skoru 0.70 olarak elde edildi.\n",
        "-f1-score 0.55 olarak elde edildi.\n",
        "\n",
        "-Lojistik regresyon ile kurulan model 0.8343 isabetlilik skoruna sahiptir.\n",
        "-Lojistik regresyon ile kurulan model 2503 doğru ve 497 yanlış sınıflandırma yapmıştır.\n",
        "-Bankadan ayrılan 183, bankada kalan 2320 kişi doğru sınıflandırılmıştır.\n",
        "-Lojistik regresyon ile kurulan modeli AUC skoru 0.64 olarak elde edildi.\n",
        "-f1-score 0.42 olarak elde edildi.\n",
        "\n",
        "-GaussianNB ile kurulan model 0.824 isabetlilik skoruna sahiptir.\n",
        "-GaussianNB ile kurulan model 2472 doğru ve 528 yanlış sınıflandırma yapmıştır.\n",
        "-Bankadan ayrılan 181, bankada kalan 2291 kişi doğru sınıflandırılmıştır.\n",
        "-GaussianNB ile kurulan modeli AUC skoru 0.63 olarak elde edildi.\n",
        "-f1-score 0.41 olarak elde edildi.\n",
        "\n",
        "-MultinomimalNB ile kurulan model 0.8203 isabetlilik skoruna sahiptir.\n",
        "-MultinomimalNB ile kurulan model 2461 doğru ve 539 yanlış sınıflandırma yapmıştır.\n",
        "-Bankadan ayrılan 85, bankada kalan 2376 kişi doğru sınıflandırılmıştır.\n",
        "-MultinomimalNB ile kurulan modeli AUC skoru 0.56 olarak elde edildi.\n",
        "-f1-score 0.28 olarak elde edildi.\n",
        "\n",
        "-ComplementNB ile kurulan model 0.814 isabetlilik skoruna sahiptir.\n",
        "-ComplementNB ile kurulan model 2442 doğru ve 558 yanlış sınıflandırma yapmıştır.\n",
        "-Bankadan ayrılan 106, bankada kalan 2336 kişi doğru sınıflandırılmıştır.\n",
        "-ComplementNB ile kurulan modeli AUC skoru 0.57 olarak elde edildi.\n",
        "-f1-score 0.28 olarak elde edildi.\n",
        "\n",
        "-BernoulliNB ile kurulan model 0.8286 isabetlilik skoruna sahiptir.\n",
        "-BernoulliNB ile kurulan model 2486 doğru ve 514 yanlış sınıflandırma yapmıştır.\n",
        "-Bankadan ayrılan 169, bankada kalan 2317 kişi doğru sınıflandırılmıştır.\n",
        "-BernoulliNB ile kurulan modeli AUC skoru 0.62 olarak elde edildi.\n",
        "-f1-score 0.40 olarak elde edildi.\n",
        "\n",
        "-Yapay Sinir Ağları ile kurulan model 0.851 isabetlilik skoruna sahiptir.\n",
        "-Yapay Sinir Ağları ile kurulan model 2553 doğru ve 447 yanlış sınıflandırma yapmıştır.\n",
        "-Bankadan ayrılan 321, bankada kalan 2232 kişi doğru sınıflandırılmıştır.\n",
        "-Yapay Sinir Ağları ile kurulan modeli AUC skoru 0.74 olarak elde edildi.\n",
        "-f1-score 0.59 olarak elde edildi.\n",
        "\n",
        "\n",
        "-LİGHTGBM ile kurulan model 0.864 isabetlilik skoruna sahiptir.\n",
        "-LİGHTGBM ile kurulan model 2592 doğru ve 408 yanlış sınıflandırma yapmıştır.\n",
        "-Bankadan ayrılan 246, bankada kalan 2346 kişi doğru sınıflandırılmıştır.\n",
        "-LİGHTGBM ile kurulan modeli AUC skoru 0.70 olarak elde edildi.\n",
        "-f1-score 0.55 olarak elde edildi.\n",
        "\n",
        "-----------------------------------------------------------------------------------\n",
        " \n",
        "İsabetlilik skoru en yüksek olan model LightGBM ile kurulan modeldir. Destek vektör\n",
        "makinesi ile kurulan modelin isabetlilik skoru LightGBM ile kurulan modele çok yakın \n",
        "elde edilmiştir.\n",
        "\n",
        "En çok doğru sınıflandırma ve en az yanlış sınıflandırma yapan model LİGHTGBM ile \n",
        "kurulan modeldir. Aynı zamanda en çok yanlış sınıflandırma yapan model 581 yanlış \n",
        "sınıflandırma ile ComplementNB ile kurulan modeldir.\n",
        "\n",
        "Bankadan ayrılan müşterileri tespit etmede en başarılı model Yapay sinir ağları,\n",
        "en başarısız model ise MultinomimalNB ile kurulan modeldir.\n",
        "\n",
        "Bankada kalan müşterileri tespit etmede en başarılı model MultinomimalNB ile kurulan \n",
        "model iken en başarısız model yapay sinir ağları ile kurulan modeldir.\n",
        "\n",
        "AUC skoru en yüksek olan model yapay sinir ağları ile kurulan modeldir. Bunun arkasından\n",
        "LightGBM ve Destek Vektör Makinesi ile kurulan modellerin AUC skorunun en yüksek olduğu görülebilir.\n",
        "\n",
        "Bu parametreler ve skorlara göre isabetlilik skoru göz önüne alınarak model kurulacak ise LightGBM,\n",
        "AUC skoru ve bankadan ayrılan müşterileri tespit etme sayısı ve f1-score göz önüne alınarak model \n",
        "kurulacak ise yapay sinir ağları, bankada kalan müşterileri tespit etme sayısı göz önüne alınarak \n",
        "model kurulacak ise MultinomimalNB ile model kurulabilir.\n",
        "\n",
        "Buradaki skorlar ve sonuçlar farklı parametrelere göre değişebilir.\n",
        "\n",
        "'''"
      ],
      "execution_count": null,
      "outputs": []
    }
  ]
}