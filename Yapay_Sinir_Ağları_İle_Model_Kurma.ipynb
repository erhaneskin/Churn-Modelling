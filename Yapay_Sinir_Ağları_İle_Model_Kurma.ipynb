{
  "nbformat": 4,
  "nbformat_minor": 0,
  "metadata": {
    "colab": {
      "name": "Yapay Sinir Ağları İle Model Kurma.ipynb",
      "provenance": [],
      "mount_file_id": "1IVZ1cwLE8YvSZ8wX046M7GXSPCiEtc6i",
      "authorship_tag": "ABX9TyPAK22O+cELkuLZnezisvdP",
      "include_colab_link": true
    },
    "kernelspec": {
      "name": "python3",
      "display_name": "Python 3"
    },
    "language_info": {
      "name": "python"
    }
  },
  "cells": [
    {
      "cell_type": "markdown",
      "metadata": {
        "id": "view-in-github",
        "colab_type": "text"
      },
      "source": [
        "<a href=\"https://colab.research.google.com/github/erhnk/Churn-Modelling/blob/main/Yapay_Sinir_A%C4%9Flar%C4%B1_%C4%B0le_Model_Kurma.ipynb\" target=\"_parent\"><img src=\"https://colab.research.google.com/assets/colab-badge.svg\" alt=\"Open In Colab\"/></a>"
      ]
    },
    {
      "cell_type": "code",
      "metadata": {
        "id": "wsQIXKQ77SFD"
      },
      "source": [
        "#İki gizli katmandan oluşan bir yapay sinir ağı oluşturalım. Ardından performans değerlendirmesi yapalım."
      ],
      "execution_count": null,
      "outputs": []
    },
    {
      "cell_type": "code",
      "metadata": {
        "id": "YhdzE1IASSF4"
      },
      "source": [
        "import keras\n",
        "from keras.models import Sequential\n",
        "from keras.layers import Dense\n",
        "from keras.layers import Dropout\n",
        "yapay_siniflandirici = Sequential()"
      ],
      "execution_count": 342,
      "outputs": []
    },
    {
      "cell_type": "code",
      "metadata": {
        "colab": {
          "base_uri": "https://localhost:8080/"
        },
        "id": "uvZLD2NhSUIb",
        "outputId": "81bf7a4f-845a-4c64-be62-bdb9036c0caf"
      },
      "source": [
        "#Birinci Gizli Katman\n",
        "yapay_siniflandirici.add(Dense(units=6, kernel_initializer='uniform',activation='relu', input_dim = X_train.shape[1]))\n",
        "\n",
        "#İkinci Gizli Katman\n",
        "yapay_siniflandirici.add(Dense(units=6, kernel_initializer='uniform', activation='relu'))\n",
        "\n",
        "#Çıktı Katmanı\n",
        "yapay_siniflandirici.add(Dense(units=1, kernel_initializer='glorot_uniform', activation='sigmoid'))\n",
        "\n",
        "#Derleme\n",
        "yapay_siniflandirici.compile(optimizer = 'adam', loss = 'binary_crossentropy', metrics=['accuracy'])\n",
        "\n",
        "#Parametre seçiminin ardından eğitim setinin yapay sinir ağına uydurulması\n",
        "history = yapay_siniflandirici.fit(X_train, y_train, batch_size=10,validation_split=0.30 ,epochs= 100)\n",
        "\n",
        "yapay_y_pred = yapay_siniflandirici.predict(X_test)"
      ],
      "execution_count": 328,
      "outputs": [
        {
          "output_type": "stream",
          "text": [
            "Epoch 1/100\n",
            "490/490 [==============================] - 2s 3ms/step - loss: 0.5544 - accuracy: 0.7815 - val_loss: 0.4414 - val_accuracy: 0.7948\n",
            "Epoch 2/100\n",
            "490/490 [==============================] - 1s 2ms/step - loss: 0.4417 - accuracy: 0.7940 - val_loss: 0.4242 - val_accuracy: 0.7948\n",
            "Epoch 3/100\n",
            "490/490 [==============================] - 1s 2ms/step - loss: 0.4386 - accuracy: 0.8036 - val_loss: 0.4229 - val_accuracy: 0.8281\n",
            "Epoch 4/100\n",
            "490/490 [==============================] - 1s 2ms/step - loss: 0.4326 - accuracy: 0.8134 - val_loss: 0.4258 - val_accuracy: 0.8229\n",
            "Epoch 5/100\n",
            "490/490 [==============================] - 1s 2ms/step - loss: 0.4171 - accuracy: 0.8229 - val_loss: 0.4222 - val_accuracy: 0.8252\n",
            "Epoch 6/100\n",
            "490/490 [==============================] - 1s 2ms/step - loss: 0.4324 - accuracy: 0.8107 - val_loss: 0.4224 - val_accuracy: 0.8200\n",
            "Epoch 7/100\n",
            "490/490 [==============================] - 1s 2ms/step - loss: 0.4328 - accuracy: 0.8124 - val_loss: 0.4213 - val_accuracy: 0.8229\n",
            "Epoch 8/100\n",
            "490/490 [==============================] - 1s 2ms/step - loss: 0.4240 - accuracy: 0.8224 - val_loss: 0.4220 - val_accuracy: 0.8176\n",
            "Epoch 9/100\n",
            "490/490 [==============================] - 1s 2ms/step - loss: 0.4294 - accuracy: 0.8166 - val_loss: 0.4213 - val_accuracy: 0.8210\n",
            "Epoch 10/100\n",
            "490/490 [==============================] - 1s 2ms/step - loss: 0.4375 - accuracy: 0.8113 - val_loss: 0.4213 - val_accuracy: 0.8219\n",
            "Epoch 11/100\n",
            "490/490 [==============================] - 1s 2ms/step - loss: 0.4433 - accuracy: 0.8067 - val_loss: 0.4208 - val_accuracy: 0.8214\n",
            "Epoch 12/100\n",
            "490/490 [==============================] - 1s 2ms/step - loss: 0.4236 - accuracy: 0.8196 - val_loss: 0.4205 - val_accuracy: 0.8205\n",
            "Epoch 13/100\n",
            "490/490 [==============================] - 1s 2ms/step - loss: 0.4225 - accuracy: 0.8234 - val_loss: 0.4208 - val_accuracy: 0.8252\n",
            "Epoch 14/100\n",
            "490/490 [==============================] - 1s 2ms/step - loss: 0.4180 - accuracy: 0.8207 - val_loss: 0.4219 - val_accuracy: 0.8205\n",
            "Epoch 15/100\n",
            "490/490 [==============================] - 1s 2ms/step - loss: 0.4195 - accuracy: 0.8208 - val_loss: 0.4210 - val_accuracy: 0.8200\n",
            "Epoch 16/100\n",
            "490/490 [==============================] - 1s 2ms/step - loss: 0.4189 - accuracy: 0.8211 - val_loss: 0.4208 - val_accuracy: 0.8195\n",
            "Epoch 17/100\n",
            "490/490 [==============================] - 1s 2ms/step - loss: 0.4377 - accuracy: 0.8109 - val_loss: 0.4195 - val_accuracy: 0.8210\n",
            "Epoch 18/100\n",
            "490/490 [==============================] - 1s 2ms/step - loss: 0.4221 - accuracy: 0.8208 - val_loss: 0.4197 - val_accuracy: 0.8200\n",
            "Epoch 19/100\n",
            "490/490 [==============================] - 1s 2ms/step - loss: 0.4299 - accuracy: 0.8155 - val_loss: 0.4198 - val_accuracy: 0.8219\n",
            "Epoch 20/100\n",
            "490/490 [==============================] - 1s 2ms/step - loss: 0.4139 - accuracy: 0.8209 - val_loss: 0.4211 - val_accuracy: 0.8195\n",
            "Epoch 21/100\n",
            "490/490 [==============================] - 1s 2ms/step - loss: 0.4172 - accuracy: 0.8144 - val_loss: 0.4191 - val_accuracy: 0.8219\n",
            "Epoch 22/100\n",
            "490/490 [==============================] - 1s 2ms/step - loss: 0.4195 - accuracy: 0.8157 - val_loss: 0.4195 - val_accuracy: 0.8210\n",
            "Epoch 23/100\n",
            "490/490 [==============================] - 1s 2ms/step - loss: 0.4215 - accuracy: 0.8183 - val_loss: 0.4214 - val_accuracy: 0.8257\n",
            "Epoch 24/100\n",
            "490/490 [==============================] - 1s 2ms/step - loss: 0.4163 - accuracy: 0.8224 - val_loss: 0.4193 - val_accuracy: 0.8238\n",
            "Epoch 25/100\n",
            "490/490 [==============================] - 1s 2ms/step - loss: 0.4306 - accuracy: 0.8145 - val_loss: 0.4199 - val_accuracy: 0.8243\n",
            "Epoch 26/100\n",
            "490/490 [==============================] - 1s 2ms/step - loss: 0.4300 - accuracy: 0.8144 - val_loss: 0.4191 - val_accuracy: 0.8233\n",
            "Epoch 27/100\n",
            "490/490 [==============================] - 1s 2ms/step - loss: 0.4069 - accuracy: 0.8256 - val_loss: 0.4204 - val_accuracy: 0.8219\n",
            "Epoch 28/100\n",
            "490/490 [==============================] - 1s 2ms/step - loss: 0.4082 - accuracy: 0.8245 - val_loss: 0.4195 - val_accuracy: 0.8195\n",
            "Epoch 29/100\n",
            "490/490 [==============================] - 1s 2ms/step - loss: 0.4310 - accuracy: 0.8132 - val_loss: 0.4194 - val_accuracy: 0.8210\n",
            "Epoch 30/100\n",
            "490/490 [==============================] - 1s 2ms/step - loss: 0.4255 - accuracy: 0.8152 - val_loss: 0.4184 - val_accuracy: 0.8238\n",
            "Epoch 31/100\n",
            "490/490 [==============================] - 1s 2ms/step - loss: 0.4316 - accuracy: 0.8185 - val_loss: 0.4188 - val_accuracy: 0.8195\n",
            "Epoch 32/100\n",
            "490/490 [==============================] - 1s 2ms/step - loss: 0.4235 - accuracy: 0.8195 - val_loss: 0.4206 - val_accuracy: 0.8229\n",
            "Epoch 33/100\n",
            "490/490 [==============================] - 1s 2ms/step - loss: 0.4337 - accuracy: 0.8138 - val_loss: 0.4188 - val_accuracy: 0.8214\n",
            "Epoch 34/100\n",
            "490/490 [==============================] - 1s 2ms/step - loss: 0.4322 - accuracy: 0.8087 - val_loss: 0.4189 - val_accuracy: 0.8200\n",
            "Epoch 35/100\n",
            "490/490 [==============================] - 1s 2ms/step - loss: 0.4256 - accuracy: 0.8138 - val_loss: 0.4186 - val_accuracy: 0.8195\n",
            "Epoch 36/100\n",
            "490/490 [==============================] - 1s 2ms/step - loss: 0.4279 - accuracy: 0.8165 - val_loss: 0.4183 - val_accuracy: 0.8243\n",
            "Epoch 37/100\n",
            "490/490 [==============================] - 1s 2ms/step - loss: 0.4315 - accuracy: 0.8146 - val_loss: 0.4183 - val_accuracy: 0.8243\n",
            "Epoch 38/100\n",
            "490/490 [==============================] - 1s 2ms/step - loss: 0.4213 - accuracy: 0.8129 - val_loss: 0.4194 - val_accuracy: 0.8210\n",
            "Epoch 39/100\n",
            "490/490 [==============================] - 1s 2ms/step - loss: 0.4319 - accuracy: 0.8180 - val_loss: 0.4194 - val_accuracy: 0.8210\n",
            "Epoch 40/100\n",
            "490/490 [==============================] - 1s 2ms/step - loss: 0.4175 - accuracy: 0.8213 - val_loss: 0.4183 - val_accuracy: 0.8224\n",
            "Epoch 41/100\n",
            "490/490 [==============================] - 1s 2ms/step - loss: 0.4324 - accuracy: 0.8162 - val_loss: 0.4191 - val_accuracy: 0.8257\n",
            "Epoch 42/100\n",
            "490/490 [==============================] - 1s 2ms/step - loss: 0.4382 - accuracy: 0.8120 - val_loss: 0.4181 - val_accuracy: 0.8224\n",
            "Epoch 43/100\n",
            "490/490 [==============================] - 1s 2ms/step - loss: 0.4356 - accuracy: 0.8072 - val_loss: 0.4180 - val_accuracy: 0.8229\n",
            "Epoch 44/100\n",
            "490/490 [==============================] - 1s 2ms/step - loss: 0.4199 - accuracy: 0.8208 - val_loss: 0.4187 - val_accuracy: 0.8200\n",
            "Epoch 45/100\n",
            "490/490 [==============================] - 1s 2ms/step - loss: 0.4304 - accuracy: 0.8128 - val_loss: 0.4181 - val_accuracy: 0.8233\n",
            "Epoch 46/100\n",
            "490/490 [==============================] - 1s 2ms/step - loss: 0.4068 - accuracy: 0.8290 - val_loss: 0.4184 - val_accuracy: 0.8195\n",
            "Epoch 47/100\n",
            "490/490 [==============================] - 1s 2ms/step - loss: 0.4299 - accuracy: 0.8112 - val_loss: 0.4180 - val_accuracy: 0.8233\n",
            "Epoch 48/100\n",
            "490/490 [==============================] - 1s 2ms/step - loss: 0.4115 - accuracy: 0.8258 - val_loss: 0.4179 - val_accuracy: 0.8224\n",
            "Epoch 49/100\n",
            "490/490 [==============================] - 1s 2ms/step - loss: 0.4262 - accuracy: 0.8192 - val_loss: 0.4187 - val_accuracy: 0.8219\n",
            "Epoch 50/100\n",
            "490/490 [==============================] - 1s 2ms/step - loss: 0.4341 - accuracy: 0.8140 - val_loss: 0.4184 - val_accuracy: 0.8224\n",
            "Epoch 51/100\n",
            "490/490 [==============================] - 1s 2ms/step - loss: 0.4335 - accuracy: 0.8154 - val_loss: 0.4178 - val_accuracy: 0.8229\n",
            "Epoch 52/100\n",
            "490/490 [==============================] - 1s 2ms/step - loss: 0.4226 - accuracy: 0.8192 - val_loss: 0.4176 - val_accuracy: 0.8243\n",
            "Epoch 53/100\n",
            "490/490 [==============================] - 1s 2ms/step - loss: 0.4036 - accuracy: 0.8335 - val_loss: 0.4174 - val_accuracy: 0.8238\n",
            "Epoch 54/100\n",
            "490/490 [==============================] - 1s 2ms/step - loss: 0.4163 - accuracy: 0.8234 - val_loss: 0.4185 - val_accuracy: 0.8195\n",
            "Epoch 55/100\n",
            "490/490 [==============================] - 1s 2ms/step - loss: 0.4279 - accuracy: 0.8132 - val_loss: 0.4177 - val_accuracy: 0.8229\n",
            "Epoch 56/100\n",
            "490/490 [==============================] - 1s 2ms/step - loss: 0.4181 - accuracy: 0.8229 - val_loss: 0.4176 - val_accuracy: 0.8243\n",
            "Epoch 57/100\n",
            "490/490 [==============================] - 1s 2ms/step - loss: 0.4272 - accuracy: 0.8154 - val_loss: 0.4174 - val_accuracy: 0.8219\n",
            "Epoch 58/100\n",
            "490/490 [==============================] - 1s 2ms/step - loss: 0.4162 - accuracy: 0.8196 - val_loss: 0.4186 - val_accuracy: 0.8214\n",
            "Epoch 59/100\n",
            "490/490 [==============================] - 1s 2ms/step - loss: 0.4255 - accuracy: 0.8181 - val_loss: 0.4177 - val_accuracy: 0.8210\n",
            "Epoch 60/100\n",
            "490/490 [==============================] - 1s 2ms/step - loss: 0.4207 - accuracy: 0.8212 - val_loss: 0.4179 - val_accuracy: 0.8205\n",
            "Epoch 61/100\n",
            "490/490 [==============================] - 1s 2ms/step - loss: 0.4276 - accuracy: 0.8175 - val_loss: 0.4199 - val_accuracy: 0.8224\n",
            "Epoch 62/100\n",
            "490/490 [==============================] - 1s 2ms/step - loss: 0.4174 - accuracy: 0.8194 - val_loss: 0.4178 - val_accuracy: 0.8214\n",
            "Epoch 63/100\n",
            "490/490 [==============================] - 1s 2ms/step - loss: 0.4175 - accuracy: 0.8215 - val_loss: 0.4177 - val_accuracy: 0.8238\n",
            "Epoch 64/100\n",
            "490/490 [==============================] - 1s 2ms/step - loss: 0.4292 - accuracy: 0.8153 - val_loss: 0.4215 - val_accuracy: 0.8224\n",
            "Epoch 65/100\n",
            "490/490 [==============================] - 1s 2ms/step - loss: 0.4143 - accuracy: 0.8243 - val_loss: 0.4177 - val_accuracy: 0.8248\n",
            "Epoch 66/100\n",
            "490/490 [==============================] - 1s 2ms/step - loss: 0.4095 - accuracy: 0.8308 - val_loss: 0.4187 - val_accuracy: 0.8186\n",
            "Epoch 67/100\n",
            "490/490 [==============================] - 1s 2ms/step - loss: 0.4122 - accuracy: 0.8227 - val_loss: 0.4183 - val_accuracy: 0.8205\n",
            "Epoch 68/100\n",
            "490/490 [==============================] - 1s 2ms/step - loss: 0.4142 - accuracy: 0.8179 - val_loss: 0.4179 - val_accuracy: 0.8224\n",
            "Epoch 69/100\n",
            "490/490 [==============================] - 1s 2ms/step - loss: 0.4296 - accuracy: 0.8156 - val_loss: 0.4174 - val_accuracy: 0.8243\n",
            "Epoch 70/100\n",
            "490/490 [==============================] - 1s 2ms/step - loss: 0.4204 - accuracy: 0.8202 - val_loss: 0.4177 - val_accuracy: 0.8229\n",
            "Epoch 71/100\n",
            "490/490 [==============================] - 1s 2ms/step - loss: 0.4173 - accuracy: 0.8224 - val_loss: 0.4178 - val_accuracy: 0.8248\n",
            "Epoch 72/100\n",
            "490/490 [==============================] - 1s 2ms/step - loss: 0.4312 - accuracy: 0.8201 - val_loss: 0.4212 - val_accuracy: 0.8233\n",
            "Epoch 73/100\n",
            "490/490 [==============================] - 1s 2ms/step - loss: 0.4140 - accuracy: 0.8228 - val_loss: 0.4180 - val_accuracy: 0.8219\n",
            "Epoch 74/100\n",
            "490/490 [==============================] - 1s 2ms/step - loss: 0.4321 - accuracy: 0.8115 - val_loss: 0.4175 - val_accuracy: 0.8252\n",
            "Epoch 75/100\n",
            "490/490 [==============================] - 1s 2ms/step - loss: 0.4210 - accuracy: 0.8191 - val_loss: 0.4179 - val_accuracy: 0.8195\n",
            "Epoch 76/100\n",
            "490/490 [==============================] - 1s 2ms/step - loss: 0.4371 - accuracy: 0.8145 - val_loss: 0.4193 - val_accuracy: 0.8243\n",
            "Epoch 77/100\n",
            "490/490 [==============================] - 1s 2ms/step - loss: 0.4239 - accuracy: 0.8164 - val_loss: 0.4176 - val_accuracy: 0.8224\n",
            "Epoch 78/100\n",
            "490/490 [==============================] - 1s 2ms/step - loss: 0.4205 - accuracy: 0.8234 - val_loss: 0.4194 - val_accuracy: 0.8229\n",
            "Epoch 79/100\n",
            "490/490 [==============================] - 1s 2ms/step - loss: 0.4119 - accuracy: 0.8262 - val_loss: 0.4177 - val_accuracy: 0.8252\n",
            "Epoch 80/100\n",
            "490/490 [==============================] - 1s 2ms/step - loss: 0.4119 - accuracy: 0.8236 - val_loss: 0.4192 - val_accuracy: 0.8219\n",
            "Epoch 81/100\n",
            "490/490 [==============================] - 1s 2ms/step - loss: 0.4256 - accuracy: 0.8135 - val_loss: 0.4173 - val_accuracy: 0.8243\n",
            "Epoch 82/100\n",
            "490/490 [==============================] - 1s 2ms/step - loss: 0.4252 - accuracy: 0.8208 - val_loss: 0.4180 - val_accuracy: 0.8219\n",
            "Epoch 83/100\n",
            "490/490 [==============================] - 1s 2ms/step - loss: 0.4207 - accuracy: 0.8241 - val_loss: 0.4209 - val_accuracy: 0.8229\n",
            "Epoch 84/100\n",
            "490/490 [==============================] - 1s 2ms/step - loss: 0.4346 - accuracy: 0.8107 - val_loss: 0.4176 - val_accuracy: 0.8214\n",
            "Epoch 85/100\n",
            "490/490 [==============================] - 1s 2ms/step - loss: 0.4324 - accuracy: 0.8135 - val_loss: 0.4174 - val_accuracy: 0.8248\n",
            "Epoch 86/100\n",
            "490/490 [==============================] - 1s 2ms/step - loss: 0.4073 - accuracy: 0.8205 - val_loss: 0.4174 - val_accuracy: 0.8262\n",
            "Epoch 87/100\n",
            "490/490 [==============================] - 1s 2ms/step - loss: 0.4388 - accuracy: 0.8104 - val_loss: 0.4175 - val_accuracy: 0.8252\n",
            "Epoch 88/100\n",
            "490/490 [==============================] - 1s 2ms/step - loss: 0.4084 - accuracy: 0.8254 - val_loss: 0.4172 - val_accuracy: 0.8257\n",
            "Epoch 89/100\n",
            "490/490 [==============================] - 1s 2ms/step - loss: 0.4247 - accuracy: 0.8182 - val_loss: 0.4198 - val_accuracy: 0.8257\n",
            "Epoch 90/100\n",
            "490/490 [==============================] - 1s 2ms/step - loss: 0.4245 - accuracy: 0.8185 - val_loss: 0.4176 - val_accuracy: 0.8205\n",
            "Epoch 91/100\n",
            "490/490 [==============================] - 1s 2ms/step - loss: 0.4254 - accuracy: 0.8127 - val_loss: 0.4170 - val_accuracy: 0.8238\n",
            "Epoch 92/100\n",
            "490/490 [==============================] - 1s 2ms/step - loss: 0.4259 - accuracy: 0.8137 - val_loss: 0.4171 - val_accuracy: 0.8271\n",
            "Epoch 93/100\n",
            "490/490 [==============================] - 1s 2ms/step - loss: 0.4156 - accuracy: 0.8204 - val_loss: 0.4175 - val_accuracy: 0.8224\n",
            "Epoch 94/100\n",
            "490/490 [==============================] - 1s 2ms/step - loss: 0.4184 - accuracy: 0.8226 - val_loss: 0.4190 - val_accuracy: 0.8243\n",
            "Epoch 95/100\n",
            "490/490 [==============================] - 1s 2ms/step - loss: 0.4302 - accuracy: 0.8166 - val_loss: 0.4173 - val_accuracy: 0.8233\n",
            "Epoch 96/100\n",
            "490/490 [==============================] - 1s 2ms/step - loss: 0.4136 - accuracy: 0.8231 - val_loss: 0.4170 - val_accuracy: 0.8229\n",
            "Epoch 97/100\n",
            "490/490 [==============================] - 1s 2ms/step - loss: 0.4199 - accuracy: 0.8222 - val_loss: 0.4225 - val_accuracy: 0.8214\n",
            "Epoch 98/100\n",
            "490/490 [==============================] - 1s 2ms/step - loss: 0.4168 - accuracy: 0.8230 - val_loss: 0.4183 - val_accuracy: 0.8214\n",
            "Epoch 99/100\n",
            "490/490 [==============================] - 1s 2ms/step - loss: 0.4134 - accuracy: 0.8207 - val_loss: 0.4174 - val_accuracy: 0.8214\n",
            "Epoch 100/100\n",
            "490/490 [==============================] - 1s 2ms/step - loss: 0.4017 - accuracy: 0.8273 - val_loss: 0.4171 - val_accuracy: 0.8248\n"
          ],
          "name": "stdout"
        }
      ]
    },
    {
      "cell_type": "code",
      "metadata": {
        "colab": {
          "base_uri": "https://localhost:8080/"
        },
        "id": "FDR1iy5VU0UO",
        "outputId": "f5562014-405c-42ea-c06c-1e1a45178c19"
      },
      "source": [
        "print(\"Yapay sinir ağları için başarı skoru: \",accuracy_score(y_test,yapay_y_pred>0.5))"
      ],
      "execution_count": 329,
      "outputs": [
        {
          "output_type": "stream",
          "text": [
            "Yapay sinir ağları için başarı skoru:  0.829\n"
          ],
          "name": "stdout"
        }
      ]
    },
    {
      "cell_type": "code",
      "metadata": {
        "colab": {
          "base_uri": "https://localhost:8080/",
          "height": 301
        },
        "id": "4PxSTlM2TwW6",
        "outputId": "ab574650-7415-4d28-9f6d-aef1062c64fd"
      },
      "source": [
        "plt.plot(history.history[\"accuracy\"])\n",
        "plt.plot(history.history[\"val_accuracy\"])\n",
        "plt.xlabel(\"epoch\")\n",
        "plt.ylabel(\"accuracy\")\n",
        "plt.legend(['train','val_test'])"
      ],
      "execution_count": 330,
      "outputs": [
        {
          "output_type": "execute_result",
          "data": {
            "text/plain": [
              "<matplotlib.legend.Legend at 0x7fe6a0d0ecd0>"
            ]
          },
          "metadata": {
            "tags": []
          },
          "execution_count": 330
        },
        {
          "output_type": "display_data",
          "data": {
            "image/png": "[encoded data removed]",
            "text/plain": [
              "<Figure size 432x288 with 1 Axes>"
            ]
          },
          "metadata": {
            "tags": [],
            "needs_background": "light"
          }
        }
      ]
    },
    {
      "cell_type": "code",
      "metadata": {
        "colab": {
          "base_uri": "https://localhost:8080/",
          "height": 317
        },
        "id": "lbqQ8DnZT3u2",
        "outputId": "7179ab69-dc58-432b-8cde-0bfed356eed1"
      },
      "source": [
        "yapay_confusion= sns.heatmap(confusion_matrix(y_test,yapay_y_pred>0.5), annot=True, fmt='g');\n",
        "print(\"Destek Vektör Makineleri için confusion_matrix :\\n\\n\",yapay_confusion)"
      ],
      "execution_count": 331,
      "outputs": [
        {
          "output_type": "stream",
          "text": [
            "Destek Vektör Makineleri için confusion_matrix :\n",
            "\n",
            " AxesSubplot(0.125,0.125;0.62x0.755)\n"
          ],
          "name": "stdout"
        },
        {
          "output_type": "display_data",
          "data": {
            "image/png": "[encoded data removed]",
            "text/plain": [
              "<Figure size 432x288 with 2 Axes>"
            ]
          },
          "metadata": {
            "tags": [],
            "needs_background": "light"
          }
        }
      ]
    },
    {
      "cell_type": "code",
      "metadata": {
        "colab": {
          "base_uri": "https://localhost:8080/",
          "height": 294
        },
        "id": "7fCpezZ_T_EO",
        "outputId": "4335cf88-8bfe-4db4-a6df-3e13b543d2e1"
      },
      "source": [
        "ypo,dpo,esikDeger = roc_curve(y_test,yapay_y_pred>0.5)\n",
        "aucDegeri = auc(ypo,dpo)\n",
        "plt.figure()\n",
        "plt.plot(ypo,dpo,label = \"AUC %0.2f\" %aucDegeri)\n",
        "plt.plot([0,1],[0,1],\"k--\")\n",
        "plt.xlim([0.0,1.0])\n",
        "plt.ylim([0.0,1.05])\n",
        "plt.xlabel(\"Yanlış Pozitif Oranı(YPO)\")\n",
        "plt.ylabel(\"Doğru Pozitif Oranı(DPO)\")\n",
        "plt.title(\"ROC Eğrisi\")\n",
        "plt.legend(loc = \"best\")\n",
        "plt.show()"
      ],
      "execution_count": 332,
      "outputs": [
        {
          "output_type": "display_data",
          "data": {
            "image/png": "[encoded data removed]",
            "text/plain": [
              "<Figure size 432x288 with 1 Axes>"
            ]
          },
          "metadata": {
            "tags": [],
            "needs_background": "light"
          }
        }
      ]
    },
    {
      "cell_type": "code",
      "metadata": {
        "colab": {
          "base_uri": "https://localhost:8080/"
        },
        "id": "cBfTv2vwUAFO",
        "outputId": "47ca2951-d1f7-4185-e398-ca2318f89495"
      },
      "source": [
        "print(classification_report(y_test,yapay_y_pred>0.5))"
      ],
      "execution_count": 333,
      "outputs": [
        {
          "output_type": "stream",
          "text": [
            "              precision    recall  f1-score   support\n",
            "\n",
            "           0       0.85      0.96      0.90      2416\n",
            "           1       0.64      0.28      0.39       584\n",
            "\n",
            "    accuracy                           0.83      3000\n",
            "   macro avg       0.74      0.62      0.64      3000\n",
            "weighted avg       0.81      0.83      0.80      3000\n",
            "\n"
          ],
          "name": "stdout"
        }
      ]
    },
    {
      "cell_type": "markdown",
      "metadata": {
        "id": "5wkIN99PTwjR"
      },
      "source": [
        "Yapay sinir ağları için model tuning"
      ]
    },
    {
      "cell_type": "code",
      "metadata": {
        "id": "uq_jcKdFUp_p"
      },
      "source": [
        "import keras_tuner as kt\n",
        "from tensorflow import keras\n",
        "from keras.wrappers.scikit_learn import KerasClassifier"
      ],
      "execution_count": 322,
      "outputs": []
    },
    {
      "cell_type": "code",
      "metadata": {
        "id": "PZRDtqe5780G"
      },
      "source": [
        "#Elimizdeki yapay sinir ağ modelinin düğüm sayılarını optimize etmek için optimization fonksiyonunu oluşturduk.\n",
        "#GridSearchCV ile verdiğimiz parametreler arasından isabetlilik skoru en iyi olan parametleri seçtik.\n",
        "#Ardından o parametreler ile model kurup modelin performansını ölçtük."
      ],
      "execution_count": null,
      "outputs": []
    },
    {
      "cell_type": "code",
      "metadata": {
        "id": "sIv1kneHc9UC"
      },
      "source": [
        "def optimization(nodes1,nodes2,activations):\n",
        "    yapay_siniflandirici_model1 = Sequential()\n",
        "    yapay_siniflandirici_model1.add(Dense(units = nodes1,activation=activations,kernel_initializer='uniform', input_dim = X_train.shape[1]))\n",
        "    yapay_siniflandirici_model1.add(Dropout(0.3))\n",
        "    yapay_siniflandirici_model1.add(Dense(units = nodes2,activation=activations,kernel_initializer='uniform'))\n",
        "    yapay_siniflandirici_model1.add(Dropout(0.5))\n",
        "    yapay_siniflandirici_model1.add(Dense(units= 1,activation='sigmoid',kernel_initializer='glorot_uniform'))\n",
        "    yapay_siniflandirici_model1.compile(optimizer = 'adam' , loss = 'binary_crossentropy',metrics = ['accuracy'])\n",
        "    return yapay_siniflandirici_model1"
      ],
      "execution_count": null,
      "outputs": []
    },
    {
      "cell_type": "code",
      "metadata": {
        "id": "V8Gs6FlCX0XA"
      },
      "source": [
        "yapay_siniflandirici_model1=KerasClassifier(build_fn=optimization, verbose = 0)\n",
        "parameters={'batch_size':[64,256,512],\n",
        "            'epochs':[50,100],\n",
        "            'activations' : ['sigmoid', 'relu'],\n",
        "            'nodes1': [6,8,7,10,20,40],\n",
        "            'nodes2': [6,7,8,10,20,40]}\n",
        "grid_search=GridSearchCV(estimator= yapay_siniflandirici_model1,\n",
        "                            param_grid=parameters,\n",
        "                            scoring='accuracy',\n",
        "                            cv=5)\n",
        "grid_search=grid_search.fit(X_train, y_train)"
      ],
      "execution_count": null,
      "outputs": []
    },
    {
      "cell_type": "code",
      "metadata": {
        "colab": {
          "base_uri": "https://localhost:8080/"
        },
        "id": "A6qoIrIoKSKt",
        "outputId": "cd665b7d-bae1-44fe-9ad1-dfcbac1b3296"
      },
      "source": [
        "grid_search.best_params_"
      ],
      "execution_count": null,
      "outputs": [
        {
          "output_type": "execute_result",
          "data": {
            "text/plain": [
              "{'activations': 'relu',\n",
              " 'batch_size': 64,\n",
              " 'epochs': 100,\n",
              " 'nodes1': 40,\n",
              " 'nodes2': 40}"
            ]
          },
          "metadata": {
            "tags": []
          },
          "execution_count": 209
        }
      ]
    },
    {
      "cell_type": "code",
      "metadata": {
        "colab": {
          "base_uri": "https://localhost:8080/"
        },
        "id": "tIRDFjIhKUG2",
        "outputId": "6a3c3d10-9414-45f4-8a3f-eb2dbe9a59a8"
      },
      "source": [
        "grid_search.best_score_"
      ],
      "execution_count": null,
      "outputs": [
        {
          "output_type": "execute_result",
          "data": {
            "text/plain": [
              "0.8525714285714285"
            ]
          },
          "metadata": {
            "tags": []
          },
          "execution_count": 210
        }
      ]
    },
    {
      "cell_type": "markdown",
      "metadata": {
        "id": "R_w44z0TYmqX"
      },
      "source": [
        "En iyi parametreler ile model kurulumu"
      ]
    },
    {
      "cell_type": "code",
      "metadata": {
        "colab": {
          "base_uri": "https://localhost:8080/"
        },
        "id": "SGtO-RejKWqD",
        "outputId": "8bf00cc6-92a7-4393-8cc2-583660df5a18"
      },
      "source": [
        "#Birinci Gizli Katman\n",
        "yapay_siniflandirici.add(Dense(units=40, kernel_initializer='uniform',activation='relu', input_dim = X_train.shape[1]))\n",
        "\n",
        "#İkinci Gizli Katman\n",
        "yapay_siniflandirici.add(Dense(units=40, kernel_initializer='uniform', activation='relu'))\n",
        "\n",
        "#Çıktı Katmanı\n",
        "yapay_siniflandirici.add(Dense(units=1, kernel_initializer='uniform', activation='sigmoid'))\n",
        "\n",
        "#Derleme\n",
        "yapay_siniflandirici.compile(optimizer = 'adam', loss = 'binary_crossentropy', metrics=['accuracy'])\n",
        "\n",
        "#Parametre seçiminin ardından eğitim setinin yapay sinir ağına uydurulması\n",
        "history1 = yapay_siniflandirici.fit(X_train, y_train, batch_size=64,validation_split=0.30 ,epochs= 100)\n",
        "\n",
        "yapay_y_pred1 = yapay_siniflandirici.predict(X_test)"
      ],
      "execution_count": 343,
      "outputs": [
        {
          "output_type": "stream",
          "text": [
            "Epoch 1/100\n",
            "77/77 [==============================] - 1s 6ms/step - loss: 0.6373 - accuracy: 0.7886 - val_loss: 0.4725 - val_accuracy: 0.7948\n",
            "Epoch 2/100\n",
            "77/77 [==============================] - 0s 3ms/step - loss: 0.4725 - accuracy: 0.7884 - val_loss: 0.4344 - val_accuracy: 0.7948\n",
            "Epoch 3/100\n",
            "77/77 [==============================] - 0s 3ms/step - loss: 0.4250 - accuracy: 0.8022 - val_loss: 0.4230 - val_accuracy: 0.8271\n",
            "Epoch 4/100\n",
            "77/77 [==============================] - 0s 2ms/step - loss: 0.4313 - accuracy: 0.8102 - val_loss: 0.4222 - val_accuracy: 0.8243\n",
            "Epoch 5/100\n",
            "77/77 [==============================] - 0s 3ms/step - loss: 0.4222 - accuracy: 0.8210 - val_loss: 0.4197 - val_accuracy: 0.8233\n",
            "Epoch 6/100\n",
            "77/77 [==============================] - 0s 3ms/step - loss: 0.4220 - accuracy: 0.8183 - val_loss: 0.4190 - val_accuracy: 0.8238\n",
            "Epoch 7/100\n",
            "77/77 [==============================] - 0s 3ms/step - loss: 0.4294 - accuracy: 0.8117 - val_loss: 0.4171 - val_accuracy: 0.8229\n",
            "Epoch 8/100\n",
            "77/77 [==============================] - 0s 2ms/step - loss: 0.4309 - accuracy: 0.8146 - val_loss: 0.4197 - val_accuracy: 0.8271\n",
            "Epoch 9/100\n",
            "77/77 [==============================] - 0s 2ms/step - loss: 0.4223 - accuracy: 0.8208 - val_loss: 0.4146 - val_accuracy: 0.8262\n",
            "Epoch 10/100\n",
            "77/77 [==============================] - 0s 2ms/step - loss: 0.4174 - accuracy: 0.8204 - val_loss: 0.4151 - val_accuracy: 0.8257\n",
            "Epoch 11/100\n",
            "77/77 [==============================] - 0s 3ms/step - loss: 0.4192 - accuracy: 0.8166 - val_loss: 0.4128 - val_accuracy: 0.8252\n",
            "Epoch 12/100\n",
            "77/77 [==============================] - 0s 2ms/step - loss: 0.4102 - accuracy: 0.8221 - val_loss: 0.4106 - val_accuracy: 0.8276\n",
            "Epoch 13/100\n",
            "77/77 [==============================] - 0s 3ms/step - loss: 0.4099 - accuracy: 0.8250 - val_loss: 0.4115 - val_accuracy: 0.8271\n",
            "Epoch 14/100\n",
            "77/77 [==============================] - 0s 3ms/step - loss: 0.4176 - accuracy: 0.8227 - val_loss: 0.4095 - val_accuracy: 0.8276\n",
            "Epoch 15/100\n",
            "77/77 [==============================] - 0s 2ms/step - loss: 0.4150 - accuracy: 0.8274 - val_loss: 0.4072 - val_accuracy: 0.8310\n",
            "Epoch 16/100\n",
            "77/77 [==============================] - 0s 2ms/step - loss: 0.4205 - accuracy: 0.8170 - val_loss: 0.4067 - val_accuracy: 0.8333\n",
            "Epoch 17/100\n",
            "77/77 [==============================] - 0s 3ms/step - loss: 0.4045 - accuracy: 0.8234 - val_loss: 0.4045 - val_accuracy: 0.8324\n",
            "Epoch 18/100\n",
            "77/77 [==============================] - 0s 3ms/step - loss: 0.4127 - accuracy: 0.8229 - val_loss: 0.4034 - val_accuracy: 0.8333\n",
            "Epoch 19/100\n",
            "77/77 [==============================] - 0s 3ms/step - loss: 0.4045 - accuracy: 0.8243 - val_loss: 0.4008 - val_accuracy: 0.8343\n",
            "Epoch 20/100\n",
            "77/77 [==============================] - 0s 3ms/step - loss: 0.4066 - accuracy: 0.8333 - val_loss: 0.3997 - val_accuracy: 0.8367\n",
            "Epoch 21/100\n",
            "77/77 [==============================] - 0s 2ms/step - loss: 0.4015 - accuracy: 0.8317 - val_loss: 0.3981 - val_accuracy: 0.8352\n",
            "Epoch 22/100\n",
            "77/77 [==============================] - 0s 3ms/step - loss: 0.3946 - accuracy: 0.8343 - val_loss: 0.3954 - val_accuracy: 0.8348\n",
            "Epoch 23/100\n",
            "77/77 [==============================] - 0s 2ms/step - loss: 0.3887 - accuracy: 0.8353 - val_loss: 0.3938 - val_accuracy: 0.8367\n",
            "Epoch 24/100\n",
            "77/77 [==============================] - 0s 3ms/step - loss: 0.3755 - accuracy: 0.8486 - val_loss: 0.3888 - val_accuracy: 0.8376\n",
            "Epoch 25/100\n",
            "77/77 [==============================] - 0s 3ms/step - loss: 0.3766 - accuracy: 0.8454 - val_loss: 0.3873 - val_accuracy: 0.8429\n",
            "Epoch 26/100\n",
            "77/77 [==============================] - 0s 2ms/step - loss: 0.3831 - accuracy: 0.8417 - val_loss: 0.3815 - val_accuracy: 0.8452\n",
            "Epoch 27/100\n",
            "77/77 [==============================] - 0s 3ms/step - loss: 0.3723 - accuracy: 0.8466 - val_loss: 0.3789 - val_accuracy: 0.8471\n",
            "Epoch 28/100\n",
            "77/77 [==============================] - 0s 3ms/step - loss: 0.3736 - accuracy: 0.8487 - val_loss: 0.3774 - val_accuracy: 0.8481\n",
            "Epoch 29/100\n",
            "77/77 [==============================] - 0s 3ms/step - loss: 0.3748 - accuracy: 0.8463 - val_loss: 0.3739 - val_accuracy: 0.8510\n",
            "Epoch 30/100\n",
            "77/77 [==============================] - 0s 3ms/step - loss: 0.3654 - accuracy: 0.8495 - val_loss: 0.3891 - val_accuracy: 0.8281\n",
            "Epoch 31/100\n",
            "77/77 [==============================] - 0s 2ms/step - loss: 0.3689 - accuracy: 0.8449 - val_loss: 0.3713 - val_accuracy: 0.8481\n",
            "Epoch 32/100\n",
            "77/77 [==============================] - 0s 2ms/step - loss: 0.3628 - accuracy: 0.8488 - val_loss: 0.3757 - val_accuracy: 0.8352\n",
            "Epoch 33/100\n",
            "77/77 [==============================] - 0s 2ms/step - loss: 0.3571 - accuracy: 0.8542 - val_loss: 0.3694 - val_accuracy: 0.8510\n",
            "Epoch 34/100\n",
            "77/77 [==============================] - 0s 3ms/step - loss: 0.3725 - accuracy: 0.8460 - val_loss: 0.3675 - val_accuracy: 0.8543\n",
            "Epoch 35/100\n",
            "77/77 [==============================] - 0s 2ms/step - loss: 0.3475 - accuracy: 0.8556 - val_loss: 0.3639 - val_accuracy: 0.8490\n",
            "Epoch 36/100\n",
            "77/77 [==============================] - 0s 3ms/step - loss: 0.3546 - accuracy: 0.8527 - val_loss: 0.3626 - val_accuracy: 0.8524\n",
            "Epoch 37/100\n",
            "77/77 [==============================] - 0s 3ms/step - loss: 0.3602 - accuracy: 0.8506 - val_loss: 0.3602 - val_accuracy: 0.8510\n",
            "Epoch 38/100\n",
            "77/77 [==============================] - 0s 2ms/step - loss: 0.3517 - accuracy: 0.8541 - val_loss: 0.3628 - val_accuracy: 0.8495\n",
            "Epoch 39/100\n",
            "77/77 [==============================] - 0s 3ms/step - loss: 0.3479 - accuracy: 0.8555 - val_loss: 0.3607 - val_accuracy: 0.8529\n",
            "Epoch 40/100\n",
            "77/77 [==============================] - 0s 2ms/step - loss: 0.3481 - accuracy: 0.8561 - val_loss: 0.3581 - val_accuracy: 0.8533\n",
            "Epoch 41/100\n",
            "77/77 [==============================] - 0s 3ms/step - loss: 0.3342 - accuracy: 0.8657 - val_loss: 0.3585 - val_accuracy: 0.8543\n",
            "Epoch 42/100\n",
            "77/77 [==============================] - 0s 2ms/step - loss: 0.3405 - accuracy: 0.8589 - val_loss: 0.3650 - val_accuracy: 0.8438\n",
            "Epoch 43/100\n",
            "77/77 [==============================] - 0s 3ms/step - loss: 0.3390 - accuracy: 0.8557 - val_loss: 0.3579 - val_accuracy: 0.8538\n",
            "Epoch 44/100\n",
            "77/77 [==============================] - 0s 3ms/step - loss: 0.3514 - accuracy: 0.8512 - val_loss: 0.3591 - val_accuracy: 0.8505\n",
            "Epoch 45/100\n",
            "77/77 [==============================] - 0s 3ms/step - loss: 0.3467 - accuracy: 0.8552 - val_loss: 0.3585 - val_accuracy: 0.8552\n",
            "Epoch 46/100\n",
            "77/77 [==============================] - 0s 2ms/step - loss: 0.3427 - accuracy: 0.8598 - val_loss: 0.3597 - val_accuracy: 0.8533\n",
            "Epoch 47/100\n",
            "77/77 [==============================] - 0s 3ms/step - loss: 0.3419 - accuracy: 0.8580 - val_loss: 0.3585 - val_accuracy: 0.8548\n",
            "Epoch 48/100\n",
            "77/77 [==============================] - 0s 3ms/step - loss: 0.3243 - accuracy: 0.8710 - val_loss: 0.3588 - val_accuracy: 0.8457\n",
            "Epoch 49/100\n",
            "77/77 [==============================] - 0s 3ms/step - loss: 0.3528 - accuracy: 0.8530 - val_loss: 0.3580 - val_accuracy: 0.8519\n",
            "Epoch 50/100\n",
            "77/77 [==============================] - 0s 2ms/step - loss: 0.3430 - accuracy: 0.8589 - val_loss: 0.3670 - val_accuracy: 0.8395\n",
            "Epoch 51/100\n",
            "77/77 [==============================] - 0s 3ms/step - loss: 0.3399 - accuracy: 0.8591 - val_loss: 0.3588 - val_accuracy: 0.8543\n",
            "Epoch 52/100\n",
            "77/77 [==============================] - 0s 3ms/step - loss: 0.3387 - accuracy: 0.8606 - val_loss: 0.3581 - val_accuracy: 0.8548\n",
            "Epoch 53/100\n",
            "77/77 [==============================] - 0s 3ms/step - loss: 0.3560 - accuracy: 0.8567 - val_loss: 0.3586 - val_accuracy: 0.8533\n",
            "Epoch 54/100\n",
            "77/77 [==============================] - 0s 3ms/step - loss: 0.3296 - accuracy: 0.8650 - val_loss: 0.3585 - val_accuracy: 0.8500\n",
            "Epoch 55/100\n",
            "77/77 [==============================] - 0s 3ms/step - loss: 0.3366 - accuracy: 0.8589 - val_loss: 0.3620 - val_accuracy: 0.8533\n",
            "Epoch 56/100\n",
            "77/77 [==============================] - 0s 3ms/step - loss: 0.3504 - accuracy: 0.8573 - val_loss: 0.3618 - val_accuracy: 0.8467\n",
            "Epoch 57/100\n",
            "77/77 [==============================] - 0s 3ms/step - loss: 0.3433 - accuracy: 0.8515 - val_loss: 0.3592 - val_accuracy: 0.8524\n",
            "Epoch 58/100\n",
            "77/77 [==============================] - 0s 2ms/step - loss: 0.3491 - accuracy: 0.8498 - val_loss: 0.3590 - val_accuracy: 0.8548\n",
            "Epoch 59/100\n",
            "77/77 [==============================] - 0s 2ms/step - loss: 0.3379 - accuracy: 0.8629 - val_loss: 0.3586 - val_accuracy: 0.8524\n",
            "Epoch 60/100\n",
            "77/77 [==============================] - 0s 3ms/step - loss: 0.3340 - accuracy: 0.8659 - val_loss: 0.3598 - val_accuracy: 0.8519\n",
            "Epoch 61/100\n",
            "77/77 [==============================] - 0s 3ms/step - loss: 0.3415 - accuracy: 0.8614 - val_loss: 0.3589 - val_accuracy: 0.8471\n",
            "Epoch 62/100\n",
            "77/77 [==============================] - 0s 3ms/step - loss: 0.3469 - accuracy: 0.8559 - val_loss: 0.3579 - val_accuracy: 0.8519\n",
            "Epoch 63/100\n",
            "77/77 [==============================] - 0s 2ms/step - loss: 0.3303 - accuracy: 0.8662 - val_loss: 0.3592 - val_accuracy: 0.8500\n",
            "Epoch 64/100\n",
            "77/77 [==============================] - 0s 3ms/step - loss: 0.3438 - accuracy: 0.8525 - val_loss: 0.3598 - val_accuracy: 0.8533\n",
            "Epoch 65/100\n",
            "77/77 [==============================] - 0s 3ms/step - loss: 0.3415 - accuracy: 0.8638 - val_loss: 0.3574 - val_accuracy: 0.8514\n",
            "Epoch 66/100\n",
            "77/77 [==============================] - 0s 3ms/step - loss: 0.3342 - accuracy: 0.8585 - val_loss: 0.3659 - val_accuracy: 0.8533\n",
            "Epoch 67/100\n",
            "77/77 [==============================] - 0s 2ms/step - loss: 0.3442 - accuracy: 0.8600 - val_loss: 0.3574 - val_accuracy: 0.8514\n",
            "Epoch 68/100\n",
            "77/77 [==============================] - 0s 2ms/step - loss: 0.3361 - accuracy: 0.8579 - val_loss: 0.3605 - val_accuracy: 0.8552\n",
            "Epoch 69/100\n",
            "77/77 [==============================] - 0s 3ms/step - loss: 0.3255 - accuracy: 0.8643 - val_loss: 0.3573 - val_accuracy: 0.8514\n",
            "Epoch 70/100\n",
            "77/77 [==============================] - 0s 2ms/step - loss: 0.3347 - accuracy: 0.8615 - val_loss: 0.3601 - val_accuracy: 0.8505\n",
            "Epoch 71/100\n",
            "77/77 [==============================] - 0s 3ms/step - loss: 0.3262 - accuracy: 0.8620 - val_loss: 0.3572 - val_accuracy: 0.8519\n",
            "Epoch 72/100\n",
            "77/77 [==============================] - 0s 2ms/step - loss: 0.3391 - accuracy: 0.8585 - val_loss: 0.3662 - val_accuracy: 0.8529\n",
            "Epoch 73/100\n",
            "77/77 [==============================] - 0s 3ms/step - loss: 0.3332 - accuracy: 0.8615 - val_loss: 0.3603 - val_accuracy: 0.8500\n",
            "Epoch 74/100\n",
            "77/77 [==============================] - 0s 2ms/step - loss: 0.3342 - accuracy: 0.8540 - val_loss: 0.3591 - val_accuracy: 0.8543\n",
            "Epoch 75/100\n",
            "77/77 [==============================] - 0s 2ms/step - loss: 0.3255 - accuracy: 0.8677 - val_loss: 0.3588 - val_accuracy: 0.8505\n",
            "Epoch 76/100\n",
            "77/77 [==============================] - 0s 2ms/step - loss: 0.3410 - accuracy: 0.8515 - val_loss: 0.3604 - val_accuracy: 0.8486\n",
            "Epoch 77/100\n",
            "77/77 [==============================] - 0s 3ms/step - loss: 0.3306 - accuracy: 0.8594 - val_loss: 0.3573 - val_accuracy: 0.8524\n",
            "Epoch 78/100\n",
            "77/77 [==============================] - 0s 3ms/step - loss: 0.3308 - accuracy: 0.8598 - val_loss: 0.3574 - val_accuracy: 0.8562\n",
            "Epoch 79/100\n",
            "77/77 [==============================] - 0s 3ms/step - loss: 0.3296 - accuracy: 0.8615 - val_loss: 0.3585 - val_accuracy: 0.8495\n",
            "Epoch 80/100\n",
            "77/77 [==============================] - 0s 3ms/step - loss: 0.3335 - accuracy: 0.8574 - val_loss: 0.3577 - val_accuracy: 0.8529\n",
            "Epoch 81/100\n",
            "77/77 [==============================] - 0s 2ms/step - loss: 0.3283 - accuracy: 0.8585 - val_loss: 0.3604 - val_accuracy: 0.8481\n",
            "Epoch 82/100\n",
            "77/77 [==============================] - 0s 3ms/step - loss: 0.3241 - accuracy: 0.8658 - val_loss: 0.3585 - val_accuracy: 0.8529\n",
            "Epoch 83/100\n",
            "77/77 [==============================] - 0s 2ms/step - loss: 0.3411 - accuracy: 0.8560 - val_loss: 0.3602 - val_accuracy: 0.8471\n",
            "Epoch 84/100\n",
            "77/77 [==============================] - 0s 2ms/step - loss: 0.3182 - accuracy: 0.8655 - val_loss: 0.3579 - val_accuracy: 0.8500\n",
            "Epoch 85/100\n",
            "77/77 [==============================] - 0s 3ms/step - loss: 0.3199 - accuracy: 0.8648 - val_loss: 0.3613 - val_accuracy: 0.8481\n",
            "Epoch 86/100\n",
            "77/77 [==============================] - 0s 3ms/step - loss: 0.3380 - accuracy: 0.8579 - val_loss: 0.3582 - val_accuracy: 0.8514\n",
            "Epoch 87/100\n",
            "77/77 [==============================] - 0s 3ms/step - loss: 0.3328 - accuracy: 0.8612 - val_loss: 0.3596 - val_accuracy: 0.8481\n",
            "Epoch 88/100\n",
            "77/77 [==============================] - 0s 3ms/step - loss: 0.3387 - accuracy: 0.8592 - val_loss: 0.3664 - val_accuracy: 0.8429\n",
            "Epoch 89/100\n",
            "77/77 [==============================] - 0s 2ms/step - loss: 0.3251 - accuracy: 0.8662 - val_loss: 0.3589 - val_accuracy: 0.8510\n",
            "Epoch 90/100\n",
            "77/77 [==============================] - 0s 3ms/step - loss: 0.3214 - accuracy: 0.8692 - val_loss: 0.3568 - val_accuracy: 0.8500\n",
            "Epoch 91/100\n",
            "77/77 [==============================] - 0s 2ms/step - loss: 0.3243 - accuracy: 0.8651 - val_loss: 0.3636 - val_accuracy: 0.8548\n",
            "Epoch 92/100\n",
            "77/77 [==============================] - 0s 3ms/step - loss: 0.3375 - accuracy: 0.8572 - val_loss: 0.3598 - val_accuracy: 0.8519\n",
            "Epoch 93/100\n",
            "77/77 [==============================] - 0s 2ms/step - loss: 0.3403 - accuracy: 0.8581 - val_loss: 0.3638 - val_accuracy: 0.8481\n",
            "Epoch 94/100\n",
            "77/77 [==============================] - 0s 2ms/step - loss: 0.3285 - accuracy: 0.8658 - val_loss: 0.3638 - val_accuracy: 0.8448\n",
            "Epoch 95/100\n",
            "77/77 [==============================] - 0s 3ms/step - loss: 0.3495 - accuracy: 0.8526 - val_loss: 0.3597 - val_accuracy: 0.8538\n",
            "Epoch 96/100\n",
            "77/77 [==============================] - 0s 3ms/step - loss: 0.3280 - accuracy: 0.8616 - val_loss: 0.3577 - val_accuracy: 0.8543\n",
            "Epoch 97/100\n",
            "77/77 [==============================] - 0s 3ms/step - loss: 0.3264 - accuracy: 0.8634 - val_loss: 0.3601 - val_accuracy: 0.8529\n",
            "Epoch 98/100\n",
            "77/77 [==============================] - 0s 2ms/step - loss: 0.3281 - accuracy: 0.8609 - val_loss: 0.3592 - val_accuracy: 0.8533\n",
            "Epoch 99/100\n",
            "77/77 [==============================] - 0s 3ms/step - loss: 0.3189 - accuracy: 0.8680 - val_loss: 0.3579 - val_accuracy: 0.8543\n",
            "Epoch 100/100\n",
            "77/77 [==============================] - 0s 3ms/step - loss: 0.3245 - accuracy: 0.8645 - val_loss: 0.3710 - val_accuracy: 0.8400\n"
          ],
          "name": "stdout"
        }
      ]
    },
    {
      "cell_type": "markdown",
      "metadata": {
        "id": "iI5u6u_KYseQ"
      },
      "source": [
        "Yeni parametreler ile kurulan modelin performans değerlendirmesi"
      ]
    },
    {
      "cell_type": "code",
      "metadata": {
        "colab": {
          "base_uri": "https://localhost:8080/",
          "height": 296
        },
        "id": "hoU2MyeVK6ad",
        "outputId": "de7a3ed0-2e4e-4500-da5a-584a033a8604"
      },
      "source": [
        "plt.plot(history1.history[\"accuracy\"])\n",
        "plt.plot(history1.history[\"val_accuracy\"])\n",
        "plt.xlabel(\"epoch\")\n",
        "plt.ylabel(\"accuracy\")\n",
        "plt.legend(['train','val_test'])"
      ],
      "execution_count": 344,
      "outputs": [
        {
          "output_type": "execute_result",
          "data": {
            "text/plain": [
              "<matplotlib.legend.Legend at 0x7fe6aa3f2190>"
            ]
          },
          "metadata": {
            "tags": []
          },
          "execution_count": 344
        },
        {
          "output_type": "display_data",
          "data": {
            "image/png": "[encoded data removed]",
            "text/plain": [
              "<Figure size 432x288 with 1 Axes>"
            ]
          },
          "metadata": {
            "tags": [],
            "needs_background": "light"
          }
        }
      ]
    },
    {
      "cell_type": "code",
      "metadata": {
        "colab": {
          "base_uri": "https://localhost:8080/"
        },
        "id": "Aa3miUeFK9up",
        "outputId": "c883035d-03cb-48a5-e7fb-ef681b08d663"
      },
      "source": [
        "print(\"Yapay sinir ağlarında en iyi parametreler için başarı skoru: \",accuracy_score(y_test,yapay_y_pred1>0.5))"
      ],
      "execution_count": 345,
      "outputs": [
        {
          "output_type": "stream",
          "text": [
            "Yapay sinir ağlarında en iyi parametreler için başarı skoru:  0.851\n"
          ],
          "name": "stdout"
        }
      ]
    },
    {
      "cell_type": "code",
      "metadata": {
        "colab": {
          "base_uri": "https://localhost:8080/",
          "height": 317
        },
        "id": "YNZDz4qrLAjP",
        "outputId": "e5450694-0523-4adb-9500-9a3da3a93a7e"
      },
      "source": [
        "confusion13= sns.heatmap(confusion_matrix(y_test,yapay_y_pred1>0.5), annot=True, fmt='g');\n",
        "print(\"Destek Vektör Makineleri için confusion_matrix :\\n\\n\",confusion13)"
      ],
      "execution_count": 346,
      "outputs": [
        {
          "output_type": "stream",
          "text": [
            "Destek Vektör Makineleri için confusion_matrix :\n",
            "\n",
            " AxesSubplot(0.125,0.125;0.62x0.755)\n"
          ],
          "name": "stdout"
        },
        {
          "output_type": "display_data",
          "data": {
            "image/png": "[encoded data removed]",
            "text/plain": [
              "<Figure size 432x288 with 2 Axes>"
            ]
          },
          "metadata": {
            "tags": [],
            "needs_background": "light"
          }
        }
      ]
    },
    {
      "cell_type": "code",
      "metadata": {
        "colab": {
          "base_uri": "https://localhost:8080/",
          "height": 294
        },
        "id": "M2cWDxj4LA6W",
        "outputId": "beea6b89-cc72-484d-89a6-f55ddb9baf73"
      },
      "source": [
        "ypo,dpo,esikDeger = roc_curve(y_test,yapay_y_pred1>0.5)\n",
        "aucDegeri = auc(ypo,dpo)\n",
        "plt.figure()\n",
        "plt.plot(ypo,dpo,label = \"AUC %0.2f\" %aucDegeri)\n",
        "plt.plot([0,1],[0,1],\"k--\")\n",
        "plt.xlim([0.0,1.0])\n",
        "plt.ylim([0.0,1.05])\n",
        "plt.xlabel(\"Yanlış Pozitif Oranı(YPO)\")\n",
        "plt.ylabel(\"Doğru Pozitif Oranı(DPO)\")\n",
        "plt.title(\"ROC Eğrisi\")\n",
        "plt.legend(loc = \"best\")\n",
        "plt.show()"
      ],
      "execution_count": 347,
      "outputs": [
        {
          "output_type": "display_data",
          "data": {
            "image/png": "[encoded data removed]",
            "text/plain": [
              "<Figure size 432x288 with 1 Axes>"
            ]
          },
          "metadata": {
            "tags": [],
            "needs_background": "light"
          }
        }
      ]
    },
    {
      "cell_type": "code",
      "metadata": {
        "colab": {
          "base_uri": "https://localhost:8080/"
        },
        "id": "pUDlY86lZzWe",
        "outputId": "14d99414-6d29-4874-a857-a5ba34bbdda6"
      },
      "source": [
        "print(classification_report(y_test,yapay_y_pred1>0.5))"
      ],
      "execution_count": 348,
      "outputs": [
        {
          "output_type": "stream",
          "text": [
            "              precision    recall  f1-score   support\n",
            "\n",
            "           0       0.89      0.92      0.91      2416\n",
            "           1       0.64      0.55      0.59       584\n",
            "\n",
            "    accuracy                           0.85      3000\n",
            "   macro avg       0.77      0.74      0.75      3000\n",
            "weighted avg       0.84      0.85      0.85      3000\n",
            "\n"
          ],
          "name": "stdout"
        }
      ]
    },
    {
      "cell_type": "code",
      "metadata": {
        "id": "_GaCi-VCYzig"
      },
      "source": [
        "#Parametre optimizasyonun ardından isabetlilik skoru 0.829'dan 0.851'e yükseklmiştir.\n",
        "#Bununla birlikte doğru sınıflandırma sayısı 2487'den 2553'e yükselmiştir.\n",
        "#Parametre optimizasyonunun ardından kurulan modelin bankadan ayrılan müşterileri tespit etmede gücünün arttığı görülebilir.\n",
        "#AUC skoru 0.62'den 0.74'e yükselmiştir.\n",
        "#Aynı zamandan f1-score 0.39'dan 0.59'a yükselmiştir."
      ],
      "execution_count": null,
      "outputs": []
    }
  ]
}