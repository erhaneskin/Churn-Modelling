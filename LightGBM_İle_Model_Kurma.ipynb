{
  "nbformat": 4,
  "nbformat_minor": 0,
  "metadata": {
    "colab": {
      "name": "LightGBM İle Model Kurma.ipynb",
      "provenance": [],
      "mount_file_id": "1IVZ1cwLE8YvSZ8wX046M7GXSPCiEtc6i",
      "authorship_tag": "ABX9TyP6pB/AAsWsDT7Eme7RwA/4",
      "include_colab_link": true
    },
    "kernelspec": {
      "name": "python3",
      "display_name": "Python 3"
    },
    "language_info": {
      "name": "python"
    }
  },
  "cells": [
    {
      "cell_type": "markdown",
      "metadata": {
        "id": "view-in-github",
        "colab_type": "text"
      },
      "source": [
        "<a href=\"https://colab.research.google.com/github/erhnk/Churn-Modelling/blob/main/LightGBM_%C4%B0le_Model_Kurma.ipynb\" target=\"_parent\"><img src=\"https://colab.research.google.com/assets/colab-badge.svg\" alt=\"Open In Colab\"/></a>"
      ]
    },
    {
      "cell_type": "markdown",
      "metadata": {
        "id": "s1bl0Pcka309"
      },
      "source": [
        "LightGBM İle Model"
      ]
    },
    {
      "cell_type": "code",
      "metadata": {
        "colab": {
          "base_uri": "https://localhost:8080/"
        },
        "id": "rKg4sCRoUGR0",
        "outputId": "b7e86a68-7916-4d0d-926e-37f0e3463b94"
      },
      "source": [
        "light_siniflandirici = lgb.LGBMClassifier(   \n",
        "    task = 'train',\n",
        "    boosting_type =  'gbdt',\n",
        "    objective =  'binary',\n",
        "    metric = 'auc',\n",
        "    num_leaves = 11,\n",
        "    learning_rate = 0.01,\n",
        "    verbose = -1)\n",
        "light_siniflandirici.fit(X_train, y_train)"
      ],
      "execution_count": 349,
      "outputs": [
        {
          "output_type": "execute_result",
          "data": {
            "text/plain": [
              "LGBMClassifier(boosting_type='gbdt', class_weight=None, colsample_bytree=1.0,\n",
              "               importance_type='split', learning_rate=0.01, max_depth=-1,\n",
              "               metric='auc', min_child_samples=20, min_child_weight=0.001,\n",
              "               min_split_gain=0.0, n_estimators=100, n_jobs=-1, num_leaves=11,\n",
              "               objective='binary', random_state=None, reg_alpha=0.0,\n",
              "               reg_lambda=0.0, silent=True, subsample=1.0,\n",
              "               subsample_for_bin=200000, subsample_freq=0, task='train',\n",
              "               verbose=-1)"
            ]
          },
          "metadata": {
            "tags": []
          },
          "execution_count": 349
        }
      ]
    },
    {
      "cell_type": "code",
      "metadata": {
        "id": "1OHt4yyJUJEu"
      },
      "source": [
        "light_y_pred = light_siniflandirici.predict(X_test)"
      ],
      "execution_count": 350,
      "outputs": []
    },
    {
      "cell_type": "code",
      "metadata": {
        "colab": {
          "base_uri": "https://localhost:8080/"
        },
        "id": "u1A7LfwgUK5h",
        "outputId": "586df150-61be-4b17-a88e-780133bdd1f3"
      },
      "source": [
        "print('İsabetlilik değeri:', accuracy_score(y_test,light_y_pred))"
      ],
      "execution_count": 351,
      "outputs": [
        {
          "output_type": "stream",
          "text": [
            "İsabetlilik değeri: 0.8466666666666667\n"
          ],
          "name": "stdout"
        }
      ]
    },
    {
      "cell_type": "code",
      "metadata": {
        "colab": {
          "base_uri": "https://localhost:8080/",
          "height": 294
        },
        "id": "SeAcN5CofXnB",
        "outputId": "97a08242-f4b8-47f3-9929-cc96b7c26774"
      },
      "source": [
        "ypo,dpo,esikDeger = roc_curve(y_test,light_y_pred)\n",
        "aucDegeri = auc(ypo,dpo)\n",
        "plt.figure()\n",
        "plt.plot(ypo,dpo,label = \"AUC %0.2f\" %aucDegeri)\n",
        "plt.plot([0,1],[0,1],\"k--\")\n",
        "plt.xlim([0.0,1.0])\n",
        "plt.ylim([0.0,1.05])\n",
        "plt.xlabel(\"Yanlış Pozitif Oranı(YPO)\")\n",
        "plt.ylabel(\"Doğru Pozitif Oranı(DPO)\")\n",
        "plt.title(\"ROC Eğrisi\")\n",
        "plt.legend(loc = \"best\")\n",
        "plt.show()"
      ],
      "execution_count": 352,
      "outputs": [
        {
          "output_type": "display_data",
          "data": {
            "image/png": "[encoded data removed]",
            "text/plain": [
              "<Figure size 432x288 with 1 Axes>"
            ]
          },
          "metadata": {
            "tags": [],
            "needs_background": "light"
          }
        }
      ]
    },
    {
      "cell_type": "code",
      "metadata": {
        "colab": {
          "base_uri": "https://localhost:8080/",
          "height": 317
        },
        "id": "nELhiYzZfcyr",
        "outputId": "9fc8c635-756c-4cc9-d9f7-4cdce80ddae1"
      },
      "source": [
        "light_confusion= sns.heatmap(confusion_matrix(y_test,light_y_pred), annot=True, fmt='g');\n",
        "print(\"LightGBM için confusion_matrix :\\n\\n\",light_confusion)"
      ],
      "execution_count": 358,
      "outputs": [
        {
          "output_type": "stream",
          "text": [
            "LightGBM için confusion_matrix :\n",
            "\n",
            " AxesSubplot(0.125,0.125;0.62x0.755)\n"
          ],
          "name": "stdout"
        },
        {
          "output_type": "display_data",
          "data": {
            "image/png": "[encoded data removed]",
            "text/plain": [
              "<Figure size 432x288 with 2 Axes>"
            ]
          },
          "metadata": {
            "tags": [],
            "needs_background": "light"
          }
        }
      ]
    },
    {
      "cell_type": "code",
      "metadata": {
        "colab": {
          "base_uri": "https://localhost:8080/"
        },
        "id": "hcjaQzdJb4IG",
        "outputId": "52519d76-69c6-4451-82d8-1b5c651b32aa"
      },
      "source": [
        "print(classification_report(y_test,light_y_pred))"
      ],
      "execution_count": 360,
      "outputs": [
        {
          "output_type": "stream",
          "text": [
            "              precision    recall  f1-score   support\n",
            "\n",
            "           0       0.85      0.99      0.91      2416\n",
            "           1       0.86      0.25      0.39       584\n",
            "\n",
            "    accuracy                           0.85      3000\n",
            "   macro avg       0.85      0.62      0.65      3000\n",
            "weighted avg       0.85      0.85      0.81      3000\n",
            "\n"
          ],
          "name": "stdout"
        }
      ]
    },
    {
      "cell_type": "markdown",
      "metadata": {
        "id": "M8A3W3OPbB7r"
      },
      "source": [
        "LightGBM için model tuning"
      ]
    },
    {
      "cell_type": "code",
      "metadata": {
        "colab": {
          "base_uri": "https://localhost:8080/"
        },
        "id": "1IablG34UMg_",
        "outputId": "99bda11f-0023-4903-87f1-7f570f1f0179"
      },
      "source": [
        "from sklearn.model_selection import GridSearchCV\n",
        "tuned_parameters = [{'boosting_type': ['gbdt'],'metric': ['auc'],\n",
        "                     'learning_rate': [0.01,0.02,0.03,0.04,0.05,0.06,0.7,0.08,0.1,0.2,0.5,0.6,0.8,1],\n",
        "                     'num_leaves': [3,5,7,9,11,13,15,17,19,21,23,25,31,63,127,255],\n",
        "                     'verbose' : [-1],\n",
        "                     \"max_depth\": [1,2,3,4,5,7]}]\n",
        "\n",
        "cValidation_search = GridSearchCV(lgb.LGBMClassifier(), tuned_parameters, cv=5, scoring ='accuracy')\n",
        "cValidation_search.fit(X_train, y_train)"
      ],
      "execution_count": null,
      "outputs": [
        {
          "output_type": "execute_result",
          "data": {
            "text/plain": [
              "GridSearchCV(cv=5, error_score=nan,\n",
              "             estimator=LGBMClassifier(boosting_type='gbdt', class_weight=None,\n",
              "                                      colsample_bytree=1.0,\n",
              "                                      importance_type='split',\n",
              "                                      learning_rate=0.1, max_depth=-1,\n",
              "                                      min_child_samples=20,\n",
              "                                      min_child_weight=0.001,\n",
              "                                      min_split_gain=0.0, n_estimators=100,\n",
              "                                      n_jobs=-1, num_leaves=31, objective=None,\n",
              "                                      random_state=None, reg_alpha=0.0,\n",
              "                                      reg_lambda=0.0, silent=Tru...\n",
              "             iid='deprecated', n_jobs=None,\n",
              "             param_grid=[{'boosting_type': ['gbdt'],\n",
              "                          'learning_rate': [0.05, 0.01, 0.02, 0.03, 0.04, 0.05,\n",
              "                                            0.06, 0.7, 0.08, 0.1, 0.2, 0.5, 0.6,\n",
              "                                            0.8, 1],\n",
              "                          'max_depth': [1, 2, 3, 4, 5, 7], 'metric': ['auc'],\n",
              "                          'num_leaves': [3, 5, 7, 9, 11, 13, 15, 17, 19, 21, 23,\n",
              "                                         25, 31, 63, 127, 255],\n",
              "                          'verbose': [-1]}],\n",
              "             pre_dispatch='2*n_jobs', refit=True, return_train_score=False,\n",
              "             scoring='accuracy', verbose=0)"
            ]
          },
          "metadata": {
            "tags": []
          },
          "execution_count": 130
        }
      ]
    },
    {
      "cell_type": "code",
      "metadata": {
        "colab": {
          "base_uri": "https://localhost:8080/"
        },
        "id": "MfqO-8byUOtl",
        "outputId": "0d1e0b43-9ad0-4986-8e1d-cf7af82e686d"
      },
      "source": [
        "print('En iyi model : ', cValidation_search.best_params_)\n",
        "print('Bu modelin ortalama skoru (roc_auc) :', cValidation_search.best_score_)"
      ],
      "execution_count": null,
      "outputs": [
        {
          "output_type": "stream",
          "text": [
            "En iyi model :  {'boosting_type': 'gbdt', 'learning_rate': 0.04, 'max_depth': 7, 'metric': 'auc', 'num_leaves': 17, 'verbose': -1}\n",
            "Bu modelin ortalama skoru (roc_auc) : 0.8594285714285714\n"
          ],
          "name": "stdout"
        }
      ]
    },
    {
      "cell_type": "code",
      "metadata": {
        "id": "Qut2PGAGUQAt"
      },
      "source": [
        "light_siniflandirici1 = lgb.LGBMClassifier(   \n",
        "    task = 'train',\n",
        "    boosting_type =  'gbdt',\n",
        "    objective =  'binary',\n",
        "    metric = 'auc',\n",
        "    max_depth = 7,\n",
        "    num_leaves = 17,\n",
        "    learning_rate = 0.04,\n",
        "    verbose = -1)\n",
        "light_siniflandirici1.fit(X_train, y_train)\n",
        "light_y_pred1 = light_siniflandirici1.predict(X_test)"
      ],
      "execution_count": 354,
      "outputs": []
    },
    {
      "cell_type": "code",
      "metadata": {
        "colab": {
          "base_uri": "https://localhost:8080/"
        },
        "id": "CxUd0PMaURcb",
        "outputId": "b273f384-73af-4d65-cc79-a6823c7d1cfd"
      },
      "source": [
        "print('İsabetlilik değeri:', accuracy_score(y_test,light_y_pred1))"
      ],
      "execution_count": 355,
      "outputs": [
        {
          "output_type": "stream",
          "text": [
            "İsabetlilik değeri: 0.864\n"
          ],
          "name": "stdout"
        }
      ]
    },
    {
      "cell_type": "code",
      "metadata": {
        "colab": {
          "base_uri": "https://localhost:8080/",
          "height": 294
        },
        "id": "W8YDp6aKbanL",
        "outputId": "56c0f32b-173c-413d-887c-4740191d6996"
      },
      "source": [
        "ypo,dpo,esikDeger = roc_curve(y_test,light_y_pred1)\n",
        "aucDegeri = auc(ypo,dpo)\n",
        "plt.figure()\n",
        "plt.plot(ypo,dpo,label = \"AUC %0.2f\" %aucDegeri)\n",
        "plt.plot([0,1],[0,1],\"k--\")\n",
        "plt.xlim([0.0,1.0])\n",
        "plt.ylim([0.0,1.05])\n",
        "plt.xlabel(\"Yanlış Pozitif Oranı(YPO)\")\n",
        "plt.ylabel(\"Doğru Pozitif Oranı(DPO)\")\n",
        "plt.title(\"ROC Eğrisi\")\n",
        "plt.legend(loc = \"best\")\n",
        "plt.show()"
      ],
      "execution_count": 356,
      "outputs": [
        {
          "output_type": "display_data",
          "data": {
            "image/png": "[encoded data removed]",
            "text/plain": [
              "<Figure size 432x288 with 1 Axes>"
            ]
          },
          "metadata": {
            "tags": [],
            "needs_background": "light"
          }
        }
      ]
    },
    {
      "cell_type": "code",
      "metadata": {
        "colab": {
          "base_uri": "https://localhost:8080/",
          "height": 317
        },
        "id": "AbLdy7rebanL",
        "outputId": "02608f98-08aa-4e0f-a567-433691bc27c8"
      },
      "source": [
        "light_confusion1= sns.heatmap(confusion_matrix(y_test,light_y_pred1), annot=True, fmt='g');\n",
        "print(\"En iyi parametrelerle LightGBM için confusion_matrix :\\n\\n\",light_confusion1)"
      ],
      "execution_count": 359,
      "outputs": [
        {
          "output_type": "stream",
          "text": [
            "En iyi parametrelerle LightGBM için confusion_matrix :\n",
            "\n",
            " AxesSubplot(0.125,0.125;0.62x0.755)\n"
          ],
          "name": "stdout"
        },
        {
          "output_type": "display_data",
          "data": {
            "image/png": "[encoded data removed]",
            "text/plain": [
              "<Figure size 432x288 with 2 Axes>"
            ]
          },
          "metadata": {
            "tags": [],
            "needs_background": "light"
          }
        }
      ]
    },
    {
      "cell_type": "code",
      "metadata": {
        "colab": {
          "base_uri": "https://localhost:8080/"
        },
        "id": "4XEnyQTZb8x7",
        "outputId": "cab242af-4505-48ea-de78-0ac5579fa571"
      },
      "source": [
        "print(classification_report(y_test,light_y_pred1))"
      ],
      "execution_count": 361,
      "outputs": [
        {
          "output_type": "stream",
          "text": [
            "              precision    recall  f1-score   support\n",
            "\n",
            "           0       0.87      0.97      0.92      2416\n",
            "           1       0.78      0.42      0.55       584\n",
            "\n",
            "    accuracy                           0.86      3000\n",
            "   macro avg       0.83      0.70      0.73      3000\n",
            "weighted avg       0.86      0.86      0.85      3000\n",
            "\n"
          ],
          "name": "stdout"
        }
      ]
    },
    {
      "cell_type": "code",
      "metadata": {
        "id": "AlrDftAFcBP-"
      },
      "source": [
        "#Yeni parametreler ile kurduğumuz LightGBM modelinin performasına baktığımızda isabetliklik skorunun 0,018 artarak 0.864 olarak elde edildiği görülüyor.\n",
        "#Parametre güncellemesinin ardından kurulan LightGBM modelinin auc skoru 0.62'dan 0.70'a yükselmiştir.\n",
        "#Yeni kurulan modelin doğru sınıflandırma sayısı 2540'ten 2592'e yükselmiştir.\n",
        "#Aynı zamanda son modelin bankadan ayrılan kişileri doğru tahmin sayısı 148'ten 246'e yükselmiştir. Bankadan ayrılacak olan 98 kişiyi daha doğru sınıflandırmıştır.\n",
        "#f1-score 0.39'dan 0.55'e yükselmiştir."
      ],
      "execution_count": null,
      "outputs": []
    }
  ]
}