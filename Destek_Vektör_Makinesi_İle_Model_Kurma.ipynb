{
  "nbformat": 4,
  "nbformat_minor": 0,
  "metadata": {
    "colab": {
      "name": "Destek Vektör Makinesi İle Model Kurma.ipynb",
      "provenance": [],
      "mount_file_id": "1IVZ1cwLE8YvSZ8wX046M7GXSPCiEtc6i",
      "authorship_tag": "ABX9TyNqg7LGZoE5qZSAjZi1gjyi",
      "include_colab_link": true
    },
    "kernelspec": {
      "name": "python3",
      "display_name": "Python 3"
    },
    "language_info": {
      "name": "python"
    }
  },
  "cells": [
    {
      "cell_type": "markdown",
      "metadata": {
        "id": "view-in-github",
        "colab_type": "text"
      },
      "source": [
        "<a href=\"https://colab.research.google.com/github/erhnk/Churn-Modelling/blob/main/Destek_Vekt%C3%B6r_Makinesi_%C4%B0le_Model_Kurma.ipynb\" target=\"_parent\"><img src=\"https://colab.research.google.com/assets/colab-badge.svg\" alt=\"Open In Colab\"/></a>"
      ]
    },
    {
      "cell_type": "markdown",
      "metadata": {
        "id": "bugqVXi7R8kw"
      },
      "source": [
        "**DESTEK VEKTÖR MAKİNELERİ**"
      ]
    },
    {
      "cell_type": "code",
      "metadata": {
        "id": "SKslBmQ2UB8t"
      },
      "source": [
        "#Destek vektör makineleri rbf, poly ve sigmoid çekirdeklerinin standart değerleri ile modeller kurup, bunların performanslarına bakalım.\n",
        "#Performans değerlendirmesi için isabetlilik skoru, hata matrisi ve roc eğrisini kullanacağız."
      ],
      "execution_count": null,
      "outputs": []
    },
    {
      "cell_type": "markdown",
      "metadata": {
        "id": "KAyYlt-3A-Su"
      },
      "source": [
        "Rbf Çekirdeğine göre Model"
      ]
    },
    {
      "cell_type": "code",
      "metadata": {
        "id": "BpwBKOU0A7C8"
      },
      "source": [
        "from sklearn.svm import SVC\n",
        "rbf_siniflandirici = SVC(kernel=\"rbf\")\n",
        "rbf_siniflandirici.fit(X_train,y_train)\n",
        "rbf_y_pred = rbf_siniflandirici.predict(X_test)"
      ],
      "execution_count": 49,
      "outputs": []
    },
    {
      "cell_type": "markdown",
      "metadata": {
        "id": "ZUH889NlKoIJ"
      },
      "source": [
        "Rbf Çekirdeğine göre Değerlendirme"
      ]
    },
    {
      "cell_type": "code",
      "metadata": {
        "colab": {
          "base_uri": "https://localhost:8080/",
          "height": 317
        },
        "id": "9Fg_KQwOQ-5D",
        "outputId": "5b356bd1-814a-4250-8995-81f2f2091430"
      },
      "source": [
        "rbf_confusion = sns.heatmap(confusion_matrix(y_test,rbf_y_pred), annot=True, fmt='g');\n",
        "print(\"Destek Vektör Makineleri için confusion_matrix :\\n\\n\",rbf_confusion)"
      ],
      "execution_count": 50,
      "outputs": [
        {
          "output_type": "stream",
          "text": [
            "Destek Vektör Makineleri için confusion_matrix :\n",
            "\n",
            " AxesSubplot(0.125,0.125;0.62x0.755)\n"
          ],
          "name": "stdout"
        },
        {
          "output_type": "display_data",
          "data": {
            "image/png": "[encoded data removed]",
            "text/plain": [
              "<Figure size 432x288 with 2 Axes>"
            ]
          },
          "metadata": {
            "tags": [],
            "needs_background": "light"
          }
        }
      ]
    },
    {
      "cell_type": "code",
      "metadata": {
        "colab": {
          "base_uri": "https://localhost:8080/"
        },
        "id": "IfZ7HnKsBHBN",
        "outputId": "82955458-cf60-4d14-eca6-40362b4c1fce"
      },
      "source": [
        "print('isabetlilik değeri:', accuracy_score(y_test, rbf_y_pred))"
      ],
      "execution_count": 51,
      "outputs": [
        {
          "output_type": "stream",
          "text": [
            "isabetlilik değeri: 0.8443333333333334\n"
          ],
          "name": "stdout"
        }
      ]
    },
    {
      "cell_type": "code",
      "metadata": {
        "colab": {
          "base_uri": "https://localhost:8080/",
          "height": 294
        },
        "id": "8uOZi88-Jvie",
        "outputId": "cc8afed5-f0bf-4457-a334-54f00602e2b5"
      },
      "source": [
        "ypo,dpo,esikDeger = roc_curve(y_test,rbf_y_pred)\n",
        "aucDegeri = auc(ypo,dpo)\n",
        "plt.figure()\n",
        "plt.plot(ypo,dpo,label = \"AUC %0.2f\" %aucDegeri)\n",
        "plt.plot([0,1],[0,1],\"k--\")\n",
        "plt.xlim([0.0,1.0])\n",
        "plt.ylim([0.0,1.05])\n",
        "plt.xlabel(\"Yanlış Pozitif Oranı(YPO)\")\n",
        "plt.ylabel(\"Doğru Pozitif Oranı(DPO)\")\n",
        "plt.title(\"ROC Eğrisi\")\n",
        "plt.legend(loc = \"best\")\n",
        "plt.show()"
      ],
      "execution_count": 52,
      "outputs": [
        {
          "output_type": "display_data",
          "data": {
            "image/png": "[encoded data removed]",
            "text/plain": [
              "<Figure size 432x288 with 1 Axes>"
            ]
          },
          "metadata": {
            "tags": [],
            "needs_background": "light"
          }
        }
      ]
    },
    {
      "cell_type": "code",
      "metadata": {
        "colab": {
          "base_uri": "https://localhost:8080/"
        },
        "id": "akMZ1eefJ0y0",
        "outputId": "cf71274b-9611-4129-82fe-e8512faf66e5"
      },
      "source": [
        "print(classification_report(y_test, rbf_y_pred))"
      ],
      "execution_count": 53,
      "outputs": [
        {
          "output_type": "stream",
          "text": [
            "              precision    recall  f1-score   support\n",
            "\n",
            "           0       0.86      0.97      0.91      2416\n",
            "           1       0.73      0.32      0.44       584\n",
            "\n",
            "    accuracy                           0.84      3000\n",
            "   macro avg       0.79      0.64      0.68      3000\n",
            "weighted avg       0.83      0.84      0.82      3000\n",
            "\n"
          ],
          "name": "stdout"
        }
      ]
    },
    {
      "cell_type": "markdown",
      "metadata": {
        "id": "PRv8FafGJ76N"
      },
      "source": [
        "POLY Çekirdeğine Göre Model"
      ]
    },
    {
      "cell_type": "code",
      "metadata": {
        "id": "CM3FFq2lJ8-J"
      },
      "source": [
        "from sklearn.svm import SVC\n",
        "poly_siniflandirici = SVC(kernel=\"poly\")\n",
        "poly_siniflandirici.fit(X_train,y_train)\n",
        "poly_y_pred = poly_siniflandirici.predict(X_test)"
      ],
      "execution_count": 54,
      "outputs": []
    },
    {
      "cell_type": "markdown",
      "metadata": {
        "id": "nL8tCNx-Rxak"
      },
      "source": [
        "Poly Çekirdeğine göre Değerlendirme"
      ]
    },
    {
      "cell_type": "code",
      "metadata": {
        "colab": {
          "base_uri": "https://localhost:8080/",
          "height": 317
        },
        "id": "ZvkDfrPhRkJY",
        "outputId": "9786adc9-a13a-4639-983a-635863dff399"
      },
      "source": [
        "poly_confusion = sns.heatmap(confusion_matrix(y_test,poly_y_pred), annot=True, fmt='g');\n",
        "print(\"Destek Vektör Makineleri için confusion_matrix :\\n\\n\",poly_confusion)"
      ],
      "execution_count": 55,
      "outputs": [
        {
          "output_type": "stream",
          "text": [
            "Destek Vektör Makineleri için confusion_matrix :\n",
            "\n",
            " AxesSubplot(0.125,0.125;0.62x0.755)\n"
          ],
          "name": "stdout"
        },
        {
          "output_type": "display_data",
          "data": {
            "image/png": "[encoded data removed]",
            "text/plain": [
              "<Figure size 432x288 with 2 Axes>"
            ]
          },
          "metadata": {
            "tags": [],
            "needs_background": "light"
          }
        }
      ]
    },
    {
      "cell_type": "code",
      "metadata": {
        "colab": {
          "base_uri": "https://localhost:8080/"
        },
        "id": "z-FCtmapKARf",
        "outputId": "d38d44ef-ac01-4dd6-a8d2-76c583c03f1a"
      },
      "source": [
        "print('isabetlilik değeri:', accuracy_score(y_test, poly_y_pred))"
      ],
      "execution_count": 56,
      "outputs": [
        {
          "output_type": "stream",
          "text": [
            "isabetlilik değeri: 0.855\n"
          ],
          "name": "stdout"
        }
      ]
    },
    {
      "cell_type": "code",
      "metadata": {
        "colab": {
          "base_uri": "https://localhost:8080/",
          "height": 294
        },
        "id": "MMd512HdKB-W",
        "outputId": "a1de9e75-c2e4-4576-c39b-b16c566a673f"
      },
      "source": [
        "ypo,dpo,esikDeger = roc_curve(y_test,poly_y_pred)\n",
        "aucDegeri = auc(ypo,dpo)\n",
        "plt.figure()\n",
        "plt.plot(ypo,dpo,label = \"AUC %0.2f\" %aucDegeri)\n",
        "plt.plot([0,1],[0,1],\"k--\")\n",
        "plt.xlim([0.0,1.0])\n",
        "plt.ylim([0.0,1.05])\n",
        "plt.xlabel(\"Yanlış Pozitif Oranı(YPO)\")\n",
        "plt.ylabel(\"Doğru Pozitif Oranı(DPO)\")\n",
        "plt.title(\"ROC Eğrisi\")\n",
        "plt.legend(loc = \"best\")\n",
        "plt.show()"
      ],
      "execution_count": 57,
      "outputs": [
        {
          "output_type": "display_data",
          "data": {
            "image/png": "[encoded data removed]",
            "text/plain": [
              "<Figure size 432x288 with 1 Axes>"
            ]
          },
          "metadata": {
            "tags": [],
            "needs_background": "light"
          }
        }
      ]
    },
    {
      "cell_type": "code",
      "metadata": {
        "id": "oaY1hyD5RafJ",
        "colab": {
          "base_uri": "https://localhost:8080/"
        },
        "outputId": "0b11af9c-9582-4f7e-dc43-cd6be915a647"
      },
      "source": [
        "print(classification_report(y_test, poly_y_pred))"
      ],
      "execution_count": 58,
      "outputs": [
        {
          "output_type": "stream",
          "text": [
            "              precision    recall  f1-score   support\n",
            "\n",
            "           0       0.87      0.97      0.92      2416\n",
            "           1       0.76      0.38      0.50       584\n",
            "\n",
            "    accuracy                           0.85      3000\n",
            "   macro avg       0.81      0.67      0.71      3000\n",
            "weighted avg       0.84      0.85      0.83      3000\n",
            "\n"
          ],
          "name": "stdout"
        }
      ]
    },
    {
      "cell_type": "markdown",
      "metadata": {
        "id": "SvwNtanWLQcK"
      },
      "source": [
        "SİGMOİD Çekirdeğine Göre Model"
      ]
    },
    {
      "cell_type": "code",
      "metadata": {
        "id": "kuG4xeGBLQ0W"
      },
      "source": [
        "from sklearn.svm import SVC\n",
        "sigmoid_siniflandirici = SVC(kernel=\"sigmoid\")\n",
        "sigmoid_siniflandirici.fit(X_train,y_train)\n",
        "sigmoid_y_pred = sigmoid_siniflandirici.predict(X_test)"
      ],
      "execution_count": 59,
      "outputs": []
    },
    {
      "cell_type": "markdown",
      "metadata": {
        "id": "hNG7qrs4SMvh"
      },
      "source": [
        "SİGMOİD Çekirdeğine göre Değerlendirme"
      ]
    },
    {
      "cell_type": "code",
      "metadata": {
        "colab": {
          "base_uri": "https://localhost:8080/",
          "height": 317
        },
        "id": "FTFZiZa9SMvi",
        "outputId": "cc2cad82-e4c7-4e80-991a-099da191918a"
      },
      "source": [
        "sigmoid_confusion = sns.heatmap(confusion_matrix(y_test,sigmoid_y_pred), annot=True, fmt='g');\n",
        "print(\"Destek Vektör Makineleri için confusion_matrix :\\n\\n\",sigmoid_confusion)"
      ],
      "execution_count": 60,
      "outputs": [
        {
          "output_type": "stream",
          "text": [
            "Destek Vektör Makineleri için confusion_matrix :\n",
            "\n",
            " AxesSubplot(0.125,0.125;0.62x0.755)\n"
          ],
          "name": "stdout"
        },
        {
          "output_type": "display_data",
          "data": {
            "image/png": "[encoded data removed]",
            "text/plain": [
              "<Figure size 432x288 with 2 Axes>"
            ]
          },
          "metadata": {
            "tags": [],
            "needs_background": "light"
          }
        }
      ]
    },
    {
      "cell_type": "code",
      "metadata": {
        "colab": {
          "base_uri": "https://localhost:8080/"
        },
        "id": "cV4poy3QLSnc",
        "outputId": "72f42e88-deca-4e18-ad28-555184d62ec6"
      },
      "source": [
        "print('isabetlilik değeri:', accuracy_score(y_test, sigmoid_y_pred))"
      ],
      "execution_count": 61,
      "outputs": [
        {
          "output_type": "stream",
          "text": [
            "isabetlilik değeri: 0.7136666666666667\n"
          ],
          "name": "stdout"
        }
      ]
    },
    {
      "cell_type": "code",
      "metadata": {
        "colab": {
          "base_uri": "https://localhost:8080/",
          "height": 294
        },
        "id": "dd3XkKMoLUOF",
        "outputId": "d8f3ac57-fb61-4424-8089-ebe39ab92a29"
      },
      "source": [
        "ypo,dpo,esikDeger = roc_curve(y_test,sigmoid_y_pred)\n",
        "aucDegeri = auc(ypo,dpo)\n",
        "plt.figure()\n",
        "plt.plot(ypo,dpo,label = \"AUC %0.2f\" %aucDegeri)\n",
        "plt.plot([0,1],[0,1],\"k--\")\n",
        "plt.xlim([0.0,1.0])\n",
        "plt.ylim([0.0,1.05])\n",
        "plt.xlabel(\"Yanlış Pozitif Oranı(YPO)\")\n",
        "plt.ylabel(\"Doğru Pozitif Oranı(DPO)\")\n",
        "plt.title(\"ROC Eğrisi\")\n",
        "plt.legend(loc = \"best\")\n",
        "plt.show()"
      ],
      "execution_count": 62,
      "outputs": [
        {
          "output_type": "display_data",
          "data": {
            "image/png": "[encoded data removed]",
            "text/plain": [
              "<Figure size 432x288 with 1 Axes>"
            ]
          },
          "metadata": {
            "tags": [],
            "needs_background": "light"
          }
        }
      ]
    },
    {
      "cell_type": "code",
      "metadata": {
        "colab": {
          "base_uri": "https://localhost:8080/"
        },
        "id": "NYSg7_H5NDN7",
        "outputId": "bf67655e-eaf7-4847-89cf-fd35042259ba"
      },
      "source": [
        "print(classification_report(y_test, sigmoid_y_pred))"
      ],
      "execution_count": 63,
      "outputs": [
        {
          "output_type": "stream",
          "text": [
            "              precision    recall  f1-score   support\n",
            "\n",
            "           0       0.83      0.81      0.82      2416\n",
            "           1       0.28      0.30      0.29       584\n",
            "\n",
            "    accuracy                           0.71      3000\n",
            "   macro avg       0.55      0.56      0.55      3000\n",
            "weighted avg       0.72      0.71      0.72      3000\n",
            "\n"
          ],
          "name": "stdout"
        }
      ]
    },
    {
      "cell_type": "code",
      "metadata": {
        "id": "jPgDfh6CDNDy"
      },
      "source": [
        "#Standart parametreler ile kurulmuş modeller incelendiğinde isabetlilik skoru en yüksek olan poly çekirdeği 0.855 isabetlilik skoruna sahiptir.\n",
        "#Rbf çekirdeği ile kurulan model 2553 doğru tahmin yaparken poly çekirdeği ile kurulam model 2565, sigmoid çekirdeği ile kurulan model 2141 doğru sınıflandırma yapmıştır.\n",
        "#AUC skoru en yüksek olan 0.67 ile poly çekirdeği ile kurulan modeldir.\n",
        "#f1-score'u en yüksek olan 0.50 ile poly çekirdeğidir.\n",
        "#Standart paremetreler ile çekirdek fonksiyonlarına göre kurulan modeller arasında sınıflandırmayı en iyi yapan poly çekirdeği olduğu görülebilir."
      ],
      "execution_count": null,
      "outputs": []
    },
    {
      "cell_type": "markdown",
      "metadata": {
        "id": "4LDodXlHBbgy"
      },
      "source": [
        "Destek Vektör Makineleri için model tunnig"
      ]
    },
    {
      "cell_type": "code",
      "metadata": {
        "id": "nHuel6TbCbta"
      },
      "source": [
        "#GridSearchCV ile her bir parametre kombinasyonu için 10'lu çapraz doğrulama yapacağız.\n",
        "#İsabetlilik skorunu kullanarak en başarılı parametreleri seçip, o parametreler ile bir daha model kuracağız.\n",
        "#Böylece en iyi parametreler ile kurulmuş modelin performasını ölçmüş olacağız."
      ],
      "execution_count": null,
      "outputs": []
    },
    {
      "cell_type": "code",
      "metadata": {
        "colab": {
          "base_uri": "https://localhost:8080/"
        },
        "id": "vVGuU9agavfm",
        "outputId": "c54ca5b3-99da-4c0c-9279-71f7dd17167c"
      },
      "source": [
        "tuned_parameters = [{'kernel': ['rbf'], 'gamma': [0.1,0.01,0.001,1],'C': [0.01,0.1,1,10]},\n",
        "                    {'kernel': ['sigmoid'], 'C': [0.01,0.1,1,10],\"gamma\" : [0.1,0.01,0.001,1]},\n",
        "                    {'kernel': ['poly'],\"C\" : [0.01,0.1,1,10],'gamma': [0.1,0.01,0.001,1]},\n",
        "                    {'kernel': ['linear'], 'C': [0.01,0.1,1,10],\"gamma\" : [0.1,0.01,0.001,1]}]\n",
        "\n",
        "cValidation_search = GridSearchCV(SVC(), tuned_parameters, cv=10, scoring ='accuracy')\n",
        "cValidation_search.fit(X_train, y_train)"
      ],
      "execution_count": null,
      "outputs": [
        {
          "output_type": "execute_result",
          "data": {
            "text/plain": [
              "GridSearchCV(cv=10, error_score=nan,\n",
              "             estimator=SVC(C=1.0, break_ties=False, cache_size=200,\n",
              "                           class_weight=None, coef0=0.0,\n",
              "                           decision_function_shape='ovr', degree=3,\n",
              "                           gamma='scale', kernel='rbf', max_iter=-1,\n",
              "                           probability=False, random_state=None, shrinking=True,\n",
              "                           tol=0.001, verbose=False),\n",
              "             iid='deprecated', n_jobs=None,\n",
              "             param_grid=[{'C': [0.01, 0.1, 1, 10],\n",
              "                          'gamma': [0.1, 0.01, 0.001, 1], 'kernel': ['rbf']},\n",
              "                         {'C': [0.01, 0.1, 1, 10],\n",
              "                          'gamma': [0.1, 0.01, 0.001, 1],\n",
              "                          'kernel': ['sigmoid']},\n",
              "                         {'C': [0.01, 0.1, 1, 10],\n",
              "                          'gamma': [0.1, 0.01, 0.001, 1], 'kernel': ['poly']},\n",
              "                         {'C': [0.01, 0.1, 1, 10],\n",
              "                          'gamma': [0.1, 0.01, 0.001, 1],\n",
              "                          'kernel': ['linear']}],\n",
              "             pre_dispatch='2*n_jobs', refit=True, return_train_score=False,\n",
              "             scoring='accuracy', verbose=0)"
            ]
          },
          "metadata": {
            "tags": []
          },
          "execution_count": 69
        }
      ]
    },
    {
      "cell_type": "code",
      "metadata": {
        "colab": {
          "base_uri": "https://localhost:8080/"
        },
        "id": "fVLon9cTNpan",
        "outputId": "9d241d4e-55c8-44ab-cc5a-38a8c829f3b7"
      },
      "source": [
        "print('En iyi model : ', cValidation_search.best_params_)\n",
        "print('Bu modelin ortalama skoru (accuracy) :', cValidation_search.best_score_)"
      ],
      "execution_count": null,
      "outputs": [
        {
          "output_type": "stream",
          "text": [
            "En iyi model :  {'C': 10, 'gamma': 1, 'kernel': 'poly'}\n",
            "Bu modelin ortalama skoru (accuracy) : 0.8447142857142858\n"
          ],
          "name": "stdout"
        }
      ]
    },
    {
      "cell_type": "markdown",
      "metadata": {
        "id": "PhWyY3MBTfsT"
      },
      "source": [
        "Deskte vektör makinesi için en iyi parametrelere göre model kurulması"
      ]
    },
    {
      "cell_type": "code",
      "metadata": {
        "id": "iS2-v2vMTa9c"
      },
      "source": [
        "svc_siniflandirma = SVC(kernel=\"poly\", C = 10, gamma=1)\n",
        "svc_siniflandirma.fit(X_train,y_train)\n",
        "svc_y_pred = svc_siniflandirma.predict(X_test)"
      ],
      "execution_count": 64,
      "outputs": []
    },
    {
      "cell_type": "markdown",
      "metadata": {
        "id": "PzzmpSAlKBIt"
      },
      "source": [
        "Destek vektör makinelerine göre Performans;"
      ]
    },
    {
      "cell_type": "code",
      "metadata": {
        "colab": {
          "base_uri": "https://localhost:8080/",
          "height": 317
        },
        "id": "1oqa7cUDOM_T",
        "outputId": "6239ce44-8d11-457d-be50-dfc63553a2e4"
      },
      "source": [
        "svc_confusion = sns.heatmap(confusion_matrix(y_test,svc_y_pred), annot=True, fmt='g');\n",
        "print(\"Destek Vektör Makineleri için confusion_matrix :\\n\\n\",svc_confusion)"
      ],
      "execution_count": 65,
      "outputs": [
        {
          "output_type": "stream",
          "text": [
            "Destek Vektör Makineleri için confusion_matrix :\n",
            "\n",
            " AxesSubplot(0.125,0.125;0.62x0.755)\n"
          ],
          "name": "stdout"
        },
        {
          "output_type": "display_data",
          "data": {
            "image/png": "[encoded data removed]",
            "text/plain": [
              "<Figure size 432x288 with 2 Axes>"
            ]
          },
          "metadata": {
            "tags": [],
            "needs_background": "light"
          }
        }
      ]
    },
    {
      "cell_type": "code",
      "metadata": {
        "colab": {
          "base_uri": "https://localhost:8080/"
        },
        "id": "QwYjPpydJt1n",
        "outputId": "7b5a2802-518e-4f7c-be67-f1941668ef7d"
      },
      "source": [
        "print('isabetlilik değeri:', accuracy_score(y_test, svc_y_pred))"
      ],
      "execution_count": 66,
      "outputs": [
        {
          "output_type": "stream",
          "text": [
            "isabetlilik değeri: 0.858\n"
          ],
          "name": "stdout"
        }
      ]
    },
    {
      "cell_type": "code",
      "metadata": {
        "colab": {
          "base_uri": "https://localhost:8080/",
          "height": 294
        },
        "id": "xI5TQPESQadF",
        "outputId": "05d8aa25-79f8-4b29-ec26-8029765e0c3d"
      },
      "source": [
        "ypo,dpo,esikDeger = roc_curve(y_test,svc_y_pred)\n",
        "aucDegeri = auc(ypo,dpo)\n",
        "plt.figure()\n",
        "plt.plot(ypo,dpo,label = \"AUC %0.2f\" %aucDegeri)\n",
        "plt.plot([0,1],[0,1],\"k--\")\n",
        "plt.xlim([0.0,1.0])\n",
        "plt.ylim([0.0,1.05])\n",
        "plt.xlabel(\"Yanlış Pozitif Oranı(YPO)\")\n",
        "plt.ylabel(\"Doğru Pozitif Oranı(DPO)\")\n",
        "plt.title(\"ROC Eğrisi\")\n",
        "plt.legend(loc = \"best\")\n",
        "plt.show()"
      ],
      "execution_count": 67,
      "outputs": [
        {
          "output_type": "display_data",
          "data": {
            "image/png": "[encoded data removed]",
            "text/plain": [
              "<Figure size 432x288 with 1 Axes>"
            ]
          },
          "metadata": {
            "tags": [],
            "needs_background": "light"
          }
        }
      ]
    },
    {
      "cell_type": "code",
      "metadata": {
        "colab": {
          "base_uri": "https://localhost:8080/"
        },
        "id": "XuJ145ipWa51",
        "outputId": "eaeebecf-fc3d-4ce4-c63c-df6a84e64d6b"
      },
      "source": [
        "print(classification_report(y_test,svc_y_pred))"
      ],
      "execution_count": 68,
      "outputs": [
        {
          "output_type": "stream",
          "text": [
            "              precision    recall  f1-score   support\n",
            "\n",
            "           0       0.88      0.96      0.92      2416\n",
            "           1       0.72      0.44      0.55       584\n",
            "\n",
            "    accuracy                           0.86      3000\n",
            "   macro avg       0.80      0.70      0.73      3000\n",
            "weighted avg       0.85      0.86      0.84      3000\n",
            "\n"
          ],
          "name": "stdout"
        }
      ]
    },
    {
      "cell_type": "code",
      "metadata": {
        "id": "i_t0HwvpE0y6"
      },
      "source": [
        "#Çeşitli parametre kombinasyonları kullanılarak en iyi parametlerin bulunması işleminin sonucunda en iyi parametreler {'C': 10, 'gamma': 1, 'kernel': 'poly'} olarak elde edilmiştir.\n",
        "#Bu parametreler ile kurulan modelin başarısı test edildiğinde isabetlilik skoru 0.858'ye, doğru sınıflandırma sayısı 2574'e ve auc skoru 0.70'e ve f1-score'u 0.55'e yükselmiştir.\n",
        "#Aynı zamanda destek vektör makinesi ile bankadan ayrılan 259 kişiyi tespi edebiliyorken 325 kişiyi tespit edemiyoruz.\n",
        "#Bankada kalan 2315 müşteriyi tespit edebiliyoruz."
      ],
      "execution_count": null,
      "outputs": []
    },
    {
      "cell_type": "code",
      "metadata": {
        "id": "7Np3GL-4VgCE"
      },
      "source": [
        ""
      ],
      "execution_count": null,
      "outputs": []
    }
  ]
}