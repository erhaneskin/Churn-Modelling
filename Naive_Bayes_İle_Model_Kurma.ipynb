{
  "nbformat": 4,
  "nbformat_minor": 0,
  "metadata": {
    "colab": {
      "name": "Naive Bayes İle Model Kurma.ipynb",
      "provenance": [],
      "mount_file_id": "1IVZ1cwLE8YvSZ8wX046M7GXSPCiEtc6i",
      "authorship_tag": "ABX9TyPamNe7WmXGpjLgb1pUw6yM",
      "include_colab_link": true
    },
    "kernelspec": {
      "name": "python3",
      "display_name": "Python 3"
    },
    "language_info": {
      "name": "python"
    }
  },
  "cells": [
    {
      "cell_type": "markdown",
      "metadata": {
        "id": "view-in-github",
        "colab_type": "text"
      },
      "source": [
        "<a href=\"https://colab.research.google.com/github/erhnk/Churn-Modelling/blob/main/Naive_Bayes_%C4%B0le_Model_Kurma.ipynb\" target=\"_parent\"><img src=\"https://colab.research.google.com/assets/colab-badge.svg\" alt=\"Open In Colab\"/></a>"
      ]
    },
    {
      "cell_type": "markdown",
      "metadata": {
        "id": "w_6v0fmHYgBf"
      },
      "source": [
        "**NAİVE BAYES İLE SINIFLANDIRMA**"
      ]
    },
    {
      "cell_type": "code",
      "metadata": {
        "id": "7E7QKdUwG0ds"
      },
      "source": [
        "#Standart parametreler ile her bir dağılıma göre model kuralım ve isabetliliğini ölçelim."
      ],
      "execution_count": null,
      "outputs": []
    },
    {
      "cell_type": "markdown",
      "metadata": {
        "id": "hteCl8FAYh4a"
      },
      "source": [
        "GaussianNB"
      ]
    },
    {
      "cell_type": "code",
      "metadata": {
        "id": "Ceio73hKYjSG"
      },
      "source": [
        "gauss_siniflandirici = GaussianNB()\n",
        "gauss_siniflandirici.fit(X_train,y_train)\n",
        "gauss_y_pred = gauss_siniflandirici.predict(X_test) "
      ],
      "execution_count": null,
      "outputs": []
    },
    {
      "cell_type": "code",
      "metadata": {
        "colab": {
          "base_uri": "https://localhost:8080/"
        },
        "id": "ig6UnO2RYpBp",
        "outputId": "6499c3f7-8924-47bb-8669-5221fd57e056"
      },
      "source": [
        "print('isabetlilik değeri:', accuracy_score(y_test,gauss_y_pred))"
      ],
      "execution_count": null,
      "outputs": [
        {
          "output_type": "stream",
          "text": [
            "isabetlilik değeri: 0.806\n"
          ],
          "name": "stdout"
        }
      ]
    },
    {
      "cell_type": "code",
      "metadata": {
        "colab": {
          "base_uri": "https://localhost:8080/",
          "height": 317
        },
        "id": "fFf7pWsiYsvH",
        "outputId": "fd664105-0513-4847-8621-418c3da8cc06"
      },
      "source": [
        "gauss_confusion = sns.heatmap(confusion_matrix(y_test,gauss_y_pred), annot=True, fmt='g');\n",
        "print(\"GaussianNB için confusion_matrix :\\n\\n\",gauss_confusion)"
      ],
      "execution_count": null,
      "outputs": [
        {
          "output_type": "stream",
          "text": [
            "GaussianNB için confusion_matrix :\n",
            "\n",
            " AxesSubplot(0.125,0.125;0.62x0.755)\n"
          ],
          "name": "stdout"
        },
        {
          "output_type": "display_data",
          "data": {
            "image/png": "[encoded data removed]",
            "text/plain": [
              "<Figure size 432x288 with 2 Axes>"
            ]
          },
          "metadata": {
            "tags": [],
            "needs_background": "light"
          }
        }
      ]
    },
    {
      "cell_type": "markdown",
      "metadata": {
        "id": "0pTGOmAYY5m-"
      },
      "source": [
        "MultinomialNB"
      ]
    },
    {
      "cell_type": "code",
      "metadata": {
        "id": "ZaD6DUzfY6xm"
      },
      "source": [
        "Multinomial_siniflandirici = MultinomialNB()\n",
        "Multinomial_siniflandirici.fit(X_train,y_train)\n",
        "Multinomial_y_pred = Multinomial_siniflandirici.predict(X_test) "
      ],
      "execution_count": null,
      "outputs": []
    },
    {
      "cell_type": "code",
      "metadata": {
        "colab": {
          "base_uri": "https://localhost:8080/"
        },
        "id": "WdvjFgwgY8Tn",
        "outputId": "dd5e78a6-1a3e-4005-f1ea-f82f0f216150"
      },
      "source": [
        "print('isabetlilik değeri:', accuracy_score(y_test,Multinomial_y_pred))"
      ],
      "execution_count": null,
      "outputs": [
        {
          "output_type": "stream",
          "text": [
            "isabetlilik değeri: 0.8166666666666667\n"
          ],
          "name": "stdout"
        }
      ]
    },
    {
      "cell_type": "code",
      "metadata": {
        "colab": {
          "base_uri": "https://localhost:8080/",
          "height": 317
        },
        "id": "wYYCQ95vZAtw",
        "outputId": "c9d7dacf-abee-4b3b-8c14-ed5190fe2fbc"
      },
      "source": [
        "Multinomial_confusion = sns.heatmap(confusion_matrix(y_test,Multinomial_y_pred), annot=True, fmt='g');\n",
        "print(\"MultinomimalNB için confusion_matrix :\\n\\n\",Multinomial_confusion)"
      ],
      "execution_count": null,
      "outputs": [
        {
          "output_type": "stream",
          "text": [
            "MultinomimalNB için confusion_matrix :\n",
            "\n",
            " AxesSubplot(0.125,0.125;0.62x0.755)\n"
          ],
          "name": "stdout"
        },
        {
          "output_type": "display_data",
          "data": {
            "image/png": "[encoded data removed]",
            "text/plain": [
              "<Figure size 432x288 with 2 Axes>"
            ]
          },
          "metadata": {
            "tags": [],
            "needs_background": "light"
          }
        }
      ]
    },
    {
      "cell_type": "markdown",
      "metadata": {
        "id": "5np8YNjRZKBb"
      },
      "source": [
        "ComplementNB"
      ]
    },
    {
      "cell_type": "code",
      "metadata": {
        "id": "1XoWHAh9ZLQk"
      },
      "source": [
        "Complement_siniflandirici = ComplementNB()\n",
        "Complement_siniflandirici.fit(X_train,y_train)\n",
        "Complement_y_pred = Complement_siniflandirici.predict(X_test) "
      ],
      "execution_count": null,
      "outputs": []
    },
    {
      "cell_type": "code",
      "metadata": {
        "colab": {
          "base_uri": "https://localhost:8080/"
        },
        "id": "eZztmv_tZMwl",
        "outputId": "1fd9b29b-d65d-4257-c743-9b2e236a0916"
      },
      "source": [
        "print('isabetlilik değeri:', accuracy_score(y_test,Complement_y_pred))"
      ],
      "execution_count": null,
      "outputs": [
        {
          "output_type": "stream",
          "text": [
            "isabetlilik değeri: 0.718\n"
          ],
          "name": "stdout"
        }
      ]
    },
    {
      "cell_type": "code",
      "metadata": {
        "colab": {
          "base_uri": "https://localhost:8080/",
          "height": 317
        },
        "id": "v2mdqBN3ZRT0",
        "outputId": "3d2f1c5e-4c54-4d76-f23f-8a7965827139"
      },
      "source": [
        "ComplementNB_confusion = sns.heatmap(confusion_matrix(y_test,Complement_y_pred), annot=True, fmt='g');\n",
        "print(\"ComplementNB için confusion_matrix :\\n\\n\",ComplementNB_confusion)"
      ],
      "execution_count": null,
      "outputs": [
        {
          "output_type": "stream",
          "text": [
            "ComplementNB için confusion_matrix :\n",
            "\n",
            " AxesSubplot(0.125,0.125;0.62x0.755)\n"
          ],
          "name": "stdout"
        },
        {
          "output_type": "display_data",
          "data": {
            "image/png": "[encoded data removed]",
            "text/plain": [
              "<Figure size 432x288 with 2 Axes>"
            ]
          },
          "metadata": {
            "tags": [],
            "needs_background": "light"
          }
        }
      ]
    },
    {
      "cell_type": "markdown",
      "metadata": {
        "id": "xSQZJ-SyZZIo"
      },
      "source": [
        "BernoulliNB"
      ]
    },
    {
      "cell_type": "code",
      "metadata": {
        "id": "Jt4875k5ZZn4"
      },
      "source": [
        "Bernoulli_siniflandirici = BernoulliNB()\n",
        "Bernoulli_siniflandirici.fit(X_train,y_train)\n",
        "Bernoulli_y_pred = Bernoulli_siniflandirici.predict(X_test) "
      ],
      "execution_count": null,
      "outputs": []
    },
    {
      "cell_type": "code",
      "metadata": {
        "colab": {
          "base_uri": "https://localhost:8080/"
        },
        "id": "SCixq0HNZbPk",
        "outputId": "cfdc79e8-291e-4275-aaee-9321d06a05bf"
      },
      "source": [
        "print('isabetlilik değeri:', accuracy_score(y_test,Bernoulli_y_pred))"
      ],
      "execution_count": null,
      "outputs": [
        {
          "output_type": "stream",
          "text": [
            "isabetlilik değeri: 0.8253333333333334\n"
          ],
          "name": "stdout"
        }
      ]
    },
    {
      "cell_type": "code",
      "metadata": {
        "colab": {
          "base_uri": "https://localhost:8080/",
          "height": 320
        },
        "id": "7kcJAaZuZc4c",
        "outputId": "64c196bf-1a5e-422c-f7a4-bfa65f878112"
      },
      "source": [
        "BernoulliNB_confusion = sns.heatmap(confusion_matrix(y_test,Bernoulli_y_pred), annot=True, fmt='g');\n",
        "print(\"BernoulliNB için confusion_matrix :\\n\\n\",BernoulliNB_confusion)"
      ],
      "execution_count": 362,
      "outputs": [
        {
          "output_type": "stream",
          "text": [
            "BernoulliNB için confusion_matrix :\n",
            "\n",
            " AxesSubplot(0.125,0.125;0.62x0.755)\n"
          ],
          "name": "stdout"
        },
        {
          "output_type": "display_data",
          "data": {
            "image/png": "[encoded data removed]",
            "text/plain": [
              "<Figure size 432x288 with 2 Axes>"
            ]
          },
          "metadata": {
            "tags": [],
            "needs_background": "light"
          }
        }
      ]
    },
    {
      "cell_type": "code",
      "metadata": {
        "id": "4AJfRrahHAGn"
      },
      "source": [
        "#Standart parametreler ile kurulmuş modeller incelendiğinde isabetlilik skoru en yüksek olan 0.8253 isabetlilik skoruna sahip BernoulliNB ile kurulan modeldir..\n",
        "#GaussianNB ile kurulan model 2418 doğru tahmin yaparken MultinomimalNB ile kurulan model 2450, ComplementNB ile kurulan model 2154 ve BernoulliNB ile kurulan model 2476 doğru sınıflandırma yapmıştır.\n",
        "#Bankadan ayrılanları tespit etmede en başarılı model 375 doğru sınıflandırma yapan ComplementNB ile kurulan modeldir.\n",
        "#Standart paremetreler ile kurulan modeller arasında en çok doğru sınıflandırma yapan BernoulliNB ile kurulan model olduğu görülebilir."
      ],
      "execution_count": null,
      "outputs": []
    },
    {
      "cell_type": "markdown",
      "metadata": {
        "id": "O1SQ06ABZmj6"
      },
      "source": [
        "**NAİVE BAYES SINIFLANDIRMASI İÇİN MODEL TUNİNG**"
      ]
    },
    {
      "cell_type": "markdown",
      "metadata": {
        "id": "pY631mYXZqT6"
      },
      "source": [
        "GaussianNB için Model Tuning"
      ]
    },
    {
      "cell_type": "code",
      "metadata": {
        "colab": {
          "base_uri": "https://localhost:8080/"
        },
        "id": "1nH0Fqp2a53-",
        "outputId": "f332bdc2-7718-44cc-d41c-f3b3018f2ec3"
      },
      "source": [
        "tuned_parameters = [{'var_smoothing' :np.logspace(-9,9,100)}]\n",
        "\n",
        "cValidation_search1 = GridSearchCV(gauss_siniflandirici, tuned_parameters, cv=10, scoring ='accuracy',n_jobs=-1,error_score=0)\n",
        "cValidation_search1.fit(X_train, y_train)"
      ],
      "execution_count": null,
      "outputs": [
        {
          "output_type": "execute_result",
          "data": {
            "text/plain": [
              "GridSearchCV(cv=10, error_score=0,\n",
              "             estimator=GaussianNB(priors=None, var_smoothing=1e-09),\n",
              "             iid='deprecated', n_jobs=-1,\n",
              "             param_grid=[{'var_smoothing': array([1.00000000e-09, 1.51991108e-09, 2.31012970e-09, 3.51119173e-09,\n",
              "       5.33669923e-09, 8.11130831e-09, 1.23284674e-08, 1.87381742e-08,\n",
              "       2.84803587e-08, 4.32876128e-08, 6.57933225e-08, 1.00000000e-07,\n",
              "       1.51991108e-07, 2.310...\n",
              "       3.51119173e+05, 5.33669923e+05, 8.11130831e+05, 1.23284674e+06,\n",
              "       1.87381742e+06, 2.84803587e+06, 4.32876128e+06, 6.57933225e+06,\n",
              "       1.00000000e+07, 1.51991108e+07, 2.31012970e+07, 3.51119173e+07,\n",
              "       5.33669923e+07, 8.11130831e+07, 1.23284674e+08, 1.87381742e+08,\n",
              "       2.84803587e+08, 4.32876128e+08, 6.57933225e+08, 1.00000000e+09])}],\n",
              "             pre_dispatch='2*n_jobs', refit=True, return_train_score=False,\n",
              "             scoring='accuracy', verbose=0)"
            ]
          },
          "metadata": {
            "tags": []
          },
          "execution_count": 296
        }
      ]
    },
    {
      "cell_type": "code",
      "metadata": {
        "colab": {
          "base_uri": "https://localhost:8080/"
        },
        "id": "-7J7Jr2WboA4",
        "outputId": "a9c29070-b321-4d34-e646-81b463dfe04b"
      },
      "source": [
        "print('En iyi model : ', cValidation_search1.best_params_)\n",
        "print('Bu modelin ortalama skoru (accuracy) :', cValidation_search1.best_score_)"
      ],
      "execution_count": null,
      "outputs": [
        {
          "output_type": "stream",
          "text": [
            "En iyi model :  {'var_smoothing': 0.2310129700083158}\n",
            "Bu modelin ortalama skoru (accuracy) : 0.8118571428571428\n"
          ],
          "name": "stdout"
        }
      ]
    },
    {
      "cell_type": "code",
      "metadata": {
        "id": "JlULR9M-Z1Cj"
      },
      "source": [
        "gauss_siniflandirici1 = GaussianNB(var_smoothing=0.2310129700083158)\n",
        "gauss_siniflandirici1.fit(X_train,y_train)\n",
        "gauss_y_pred1 = gauss_siniflandirici1.predict(X_test) "
      ],
      "execution_count": null,
      "outputs": []
    },
    {
      "cell_type": "code",
      "metadata": {
        "colab": {
          "base_uri": "https://localhost:8080/"
        },
        "id": "S0KbFyULZ7FT",
        "outputId": "1bbfd1fb-8dde-41b4-f468-d4776f6da561"
      },
      "source": [
        "print('isabetlilik değeri:', accuracy_score(y_test,gauss_y_pred1))"
      ],
      "execution_count": null,
      "outputs": [
        {
          "output_type": "stream",
          "text": [
            "isabetlilik değeri: 0.824\n"
          ],
          "name": "stdout"
        }
      ]
    },
    {
      "cell_type": "code",
      "metadata": {
        "colab": {
          "base_uri": "https://localhost:8080/",
          "height": 317
        },
        "id": "0yC1tykYZ-Yb",
        "outputId": "7ff5fb80-ac5c-433f-ab5f-2fd3c9cecbb7"
      },
      "source": [
        "GaussianNB_confusion1 = sns.heatmap(confusion_matrix(y_test,gauss_y_pred1), annot=True, fmt='g');\n",
        "print(\"GaussianNB için confusion_matrix :\\n\\n\",GaussianNB_confusion1)"
      ],
      "execution_count": null,
      "outputs": [
        {
          "output_type": "stream",
          "text": [
            "GaussianNB için confusion_matrix :\n",
            "\n",
            " AxesSubplot(0.125,0.125;0.62x0.755)\n"
          ],
          "name": "stdout"
        },
        {
          "output_type": "display_data",
          "data": {
            "image/png": "[encoded data removed]",
            "text/plain": [
              "<Figure size 432x288 with 2 Axes>"
            ]
          },
          "metadata": {
            "tags": [],
            "needs_background": "light"
          }
        }
      ]
    },
    {
      "cell_type": "code",
      "metadata": {
        "colab": {
          "base_uri": "https://localhost:8080/"
        },
        "id": "pzRmB2OPaIQY",
        "outputId": "d46311af-64f8-4501-cf2f-1d78db97c19b"
      },
      "source": [
        "print(classification_report(y_test,gauss_y_pred1))"
      ],
      "execution_count": null,
      "outputs": [
        {
          "output_type": "stream",
          "text": [
            "              precision    recall  f1-score   support\n",
            "\n",
            "           0       0.85      0.95      0.90      2416\n",
            "           1       0.59      0.31      0.41       584\n",
            "\n",
            "    accuracy                           0.82      3000\n",
            "   macro avg       0.72      0.63      0.65      3000\n",
            "weighted avg       0.80      0.82      0.80      3000\n",
            "\n"
          ],
          "name": "stdout"
        }
      ]
    },
    {
      "cell_type": "code",
      "metadata": {
        "colab": {
          "base_uri": "https://localhost:8080/",
          "height": 294
        },
        "id": "TYT5k2OKaKG1",
        "outputId": "ff8f1200-4c76-4bcc-fc5a-b3e0b1efa19c"
      },
      "source": [
        "ypo,dpo,esikDeger = roc_curve(y_test,gauss_y_pred1)\n",
        "aucDegeri = auc(ypo,dpo)\n",
        "plt.figure()\n",
        "plt.plot(ypo,dpo,label = \"AUC %0.2f\" %aucDegeri)\n",
        "plt.plot([0,1],[0,1],\"k--\")\n",
        "plt.xlim([0.0,1.0])\n",
        "plt.ylim([0.0,1.05])\n",
        "plt.xlabel(\"Yanlış Pozitif Oranı(YPO)\")\n",
        "plt.ylabel(\"Doğru Pozitif Oranı(DPO)\")\n",
        "plt.title(\"ROC Eğrisi\")\n",
        "plt.legend(loc = \"best\")\n",
        "plt.show()"
      ],
      "execution_count": null,
      "outputs": [
        {
          "output_type": "display_data",
          "data": {
            "image/png": "[encoded data removed]",
            "text/plain": [
              "<Figure size 432x288 with 1 Axes>"
            ]
          },
          "metadata": {
            "tags": [],
            "needs_background": "light"
          }
        }
      ]
    },
    {
      "cell_type": "markdown",
      "metadata": {
        "id": "YWfd7JxUaMQh"
      },
      "source": [
        "MultinomimalNB için Model Tuning"
      ]
    },
    {
      "cell_type": "code",
      "metadata": {
        "id": "tisW5rsNlYx_",
        "colab": {
          "base_uri": "https://localhost:8080/"
        },
        "outputId": "bf17918c-d23c-44b4-f5be-e677416c042a"
      },
      "source": [
        "tuned_parameters2 = [{'alpha' :np.logspace(-9,9,100)}]\n",
        "\n",
        "cValidation_search2 = GridSearchCV(Multinomial_siniflandirici, tuned_parameters2, cv=10, scoring ='accuracy',n_jobs=-1,error_score=0)\n",
        "cValidation_search2.fit(X_train, y_train)"
      ],
      "execution_count": null,
      "outputs": [
        {
          "output_type": "execute_result",
          "data": {
            "text/plain": [
              "GridSearchCV(cv=10, error_score=0,\n",
              "             estimator=MultinomialNB(alpha=1.0, class_prior=None,\n",
              "                                     fit_prior=True),\n",
              "             iid='deprecated', n_jobs=-1,\n",
              "             param_grid=[{'alpha': array([1.00000000e-09, 1.51991108e-09, 2.31012970e-09, 3.51119173e-09,\n",
              "       5.33669923e-09, 8.11130831e-09, 1.23284674e-08, 1.87381742e-08,\n",
              "       2.84803587e-08, 4.32876128e-08, 6.57933225e-08, 1.00000000e-07,\n",
              "       1.51991108e-07,...\n",
              "       3.51119173e+05, 5.33669923e+05, 8.11130831e+05, 1.23284674e+06,\n",
              "       1.87381742e+06, 2.84803587e+06, 4.32876128e+06, 6.57933225e+06,\n",
              "       1.00000000e+07, 1.51991108e+07, 2.31012970e+07, 3.51119173e+07,\n",
              "       5.33669923e+07, 8.11130831e+07, 1.23284674e+08, 1.87381742e+08,\n",
              "       2.84803587e+08, 4.32876128e+08, 6.57933225e+08, 1.00000000e+09])}],\n",
              "             pre_dispatch='2*n_jobs', refit=True, return_train_score=False,\n",
              "             scoring='accuracy', verbose=0)"
            ]
          },
          "metadata": {
            "tags": []
          },
          "execution_count": 271
        }
      ]
    },
    {
      "cell_type": "code",
      "metadata": {
        "colab": {
          "base_uri": "https://localhost:8080/"
        },
        "id": "BC9vl6LZeIcF",
        "outputId": "d700a3ae-b38c-4066-a8b8-44eb611c597c"
      },
      "source": [
        "print('En iyi model : ', cValidation_search2.best_params_)\n",
        "print('Bu modelin ortalama skoru (accuracy) :', cValidation_search2.best_score_)"
      ],
      "execution_count": null,
      "outputs": [
        {
          "output_type": "stream",
          "text": [
            "En iyi model :  {'alpha': 81.11308307896888}\n",
            "Bu modelin ortalama skoru (accuracy) : 0.8097142857142858\n"
          ],
          "name": "stdout"
        }
      ]
    },
    {
      "cell_type": "code",
      "metadata": {
        "id": "I77u26UkaR2Y"
      },
      "source": [
        "Multinomial_siniflandirici1 = MultinomialNB(alpha=81.11308307896888)\n",
        "Multinomial_siniflandirici1.fit(X_train,y_train)\n",
        "Multinomial_y_pred1 = Multinomial_siniflandirici1.predict(X_test) "
      ],
      "execution_count": null,
      "outputs": []
    },
    {
      "cell_type": "code",
      "metadata": {
        "colab": {
          "base_uri": "https://localhost:8080/"
        },
        "id": "joG09BvcaUby",
        "outputId": "a8b2b7bd-3b2a-4821-d7ca-ec99ca4c90bf"
      },
      "source": [
        "print('isabetlilik değeri:', accuracy_score(y_test,Multinomial_y_pred1))"
      ],
      "execution_count": null,
      "outputs": [
        {
          "output_type": "stream",
          "text": [
            "isabetlilik değeri: 0.8203333333333334\n"
          ],
          "name": "stdout"
        }
      ]
    },
    {
      "cell_type": "code",
      "metadata": {
        "colab": {
          "base_uri": "https://localhost:8080/",
          "height": 317
        },
        "id": "ev7W_WsKaXaN",
        "outputId": "7c228bc5-ad2a-4aa2-a192-c181400ea826"
      },
      "source": [
        "MultinomimalNB_confusion1 = sns.heatmap(confusion_matrix(y_test,Multinomial_y_pred1), annot=True, fmt='g');\n",
        "print(\"MultinomimalNB için confusion_matrix :\\n\\n\",MultinomimalNB_confusion1)"
      ],
      "execution_count": null,
      "outputs": [
        {
          "output_type": "stream",
          "text": [
            "MultinomimalNB için confusion_matrix :\n",
            "\n",
            " AxesSubplot(0.125,0.125;0.62x0.755)\n"
          ],
          "name": "stdout"
        },
        {
          "output_type": "display_data",
          "data": {
            "image/png": "[encoded data removed]",
            "text/plain": [
              "<Figure size 432x288 with 2 Axes>"
            ]
          },
          "metadata": {
            "tags": [],
            "needs_background": "light"
          }
        }
      ]
    },
    {
      "cell_type": "code",
      "metadata": {
        "colab": {
          "base_uri": "https://localhost:8080/"
        },
        "id": "hbfWKa-bac1P",
        "outputId": "98213242-03f0-4828-f15c-18a18ef8f71e"
      },
      "source": [
        "print(classification_report(y_test,Multinomial_y_pred1))"
      ],
      "execution_count": null,
      "outputs": [
        {
          "output_type": "stream",
          "text": [
            "              precision    recall  f1-score   support\n",
            "\n",
            "           0       0.83      0.97      0.89      2416\n",
            "           1       0.59      0.19      0.28       584\n",
            "\n",
            "    accuracy                           0.82      3000\n",
            "   macro avg       0.71      0.58      0.59      3000\n",
            "weighted avg       0.78      0.82      0.78      3000\n",
            "\n"
          ],
          "name": "stdout"
        }
      ]
    },
    {
      "cell_type": "code",
      "metadata": {
        "colab": {
          "base_uri": "https://localhost:8080/",
          "height": 294
        },
        "id": "pyqFQSYraeia",
        "outputId": "ea23d258-9326-413f-a2e2-b330703bf9a8"
      },
      "source": [
        "ypo,dpo,esikDeger = roc_curve(y_test,Multinomial_y_pred1)\n",
        "aucDegeri = auc(ypo,dpo)\n",
        "plt.figure()\n",
        "plt.plot(ypo,dpo,label = \"AUC %0.2f\" %aucDegeri)\n",
        "plt.plot([0,1],[0,1],\"k--\")\n",
        "plt.xlim([0.0,1.0])\n",
        "plt.ylim([0.0,1.05])\n",
        "plt.xlabel(\"Yanlış Pozitif Oranı(YPO)\")\n",
        "plt.ylabel(\"Doğru Pozitif Oranı(DPO)\")\n",
        "plt.title(\"ROC Eğrisi\")\n",
        "plt.legend(loc = \"best\")\n",
        "plt.show()"
      ],
      "execution_count": null,
      "outputs": [
        {
          "output_type": "display_data",
          "data": {
            "image/png": "[encoded data removed]",
            "text/plain": [
              "<Figure size 432x288 with 1 Axes>"
            ]
          },
          "metadata": {
            "tags": [],
            "needs_background": "light"
          }
        }
      ]
    },
    {
      "cell_type": "markdown",
      "metadata": {
        "id": "-RRh9Y07aggu"
      },
      "source": [
        "ComplementNB için Model Tuning"
      ]
    },
    {
      "cell_type": "code",
      "metadata": {
        "colab": {
          "base_uri": "https://localhost:8080/"
        },
        "id": "nPHpVgjhr1cv",
        "outputId": "adbdd8a5-cdbb-4fb5-cfcf-38afa293e6a3"
      },
      "source": [
        "tuned_parameters3 = [{'alpha' :np.logspace(-9,9,100)}]\n",
        "\n",
        "cValidation_search3 = GridSearchCV(Complement_siniflandirici, tuned_parameters3, cv=10, scoring ='accuracy',n_jobs=-1,error_score=0)\n",
        "cValidation_search3.fit(X_train, y_train) "
      ],
      "execution_count": null,
      "outputs": [
        {
          "output_type": "execute_result",
          "data": {
            "text/plain": [
              "GridSearchCV(cv=10, error_score=0,\n",
              "             estimator=ComplementNB(alpha=1.0, class_prior=None, fit_prior=True,\n",
              "                                    norm=False),\n",
              "             iid='deprecated', n_jobs=-1,\n",
              "             param_grid=[{'alpha': array([1.00000000e-09, 1.51991108e-09, 2.31012970e-09, 3.51119173e-09,\n",
              "       5.33669923e-09, 8.11130831e-09, 1.23284674e-08, 1.87381742e-08,\n",
              "       2.84803587e-08, 4.32876128e-08, 6.57933225e-08, 1.00000000e-07,\n",
              "       1.519...\n",
              "       3.51119173e+05, 5.33669923e+05, 8.11130831e+05, 1.23284674e+06,\n",
              "       1.87381742e+06, 2.84803587e+06, 4.32876128e+06, 6.57933225e+06,\n",
              "       1.00000000e+07, 1.51991108e+07, 2.31012970e+07, 3.51119173e+07,\n",
              "       5.33669923e+07, 8.11130831e+07, 1.23284674e+08, 1.87381742e+08,\n",
              "       2.84803587e+08, 4.32876128e+08, 6.57933225e+08, 1.00000000e+09])}],\n",
              "             pre_dispatch='2*n_jobs', refit=True, return_train_score=False,\n",
              "             scoring='accuracy', verbose=0)"
            ]
          },
          "metadata": {
            "tags": []
          },
          "execution_count": 277
        }
      ]
    },
    {
      "cell_type": "code",
      "metadata": {
        "colab": {
          "base_uri": "https://localhost:8080/"
        },
        "id": "tcMwOYDIsXnr",
        "outputId": "8951a3d6-6c8a-4d1a-dc19-8d412a8d83f0"
      },
      "source": [
        "print('En iyi model : ', cValidation_search3.best_params_)\n",
        "print('Bu modelin ortalama skoru (accuracy) :', cValidation_search3.best_score_)"
      ],
      "execution_count": null,
      "outputs": [
        {
          "output_type": "stream",
          "text": [
            "En iyi model :  {'alpha': 3511.1917342151273}\n",
            "Bu modelin ortalama skoru (accuracy) : 0.8005714285714285\n"
          ],
          "name": "stdout"
        }
      ]
    },
    {
      "cell_type": "code",
      "metadata": {
        "id": "FIGAaIRbaj0O"
      },
      "source": [
        "Complement_siniflandirici1 = ComplementNB(alpha=3511.1917342151273)\n",
        "Complement_siniflandirici1.fit(X_train,y_train)\n",
        "Complement_y_pred1 = Complement_siniflandirici1.predict(X_test) "
      ],
      "execution_count": null,
      "outputs": []
    },
    {
      "cell_type": "code",
      "metadata": {
        "colab": {
          "base_uri": "https://localhost:8080/"
        },
        "id": "yhmCf5dxami6",
        "outputId": "4b65ace9-3f2e-49c4-8b47-eed5f911660b"
      },
      "source": [
        "print('isabetlilik değeri:', accuracy_score(y_test,Complement_y_pred1))"
      ],
      "execution_count": null,
      "outputs": [
        {
          "output_type": "stream",
          "text": [
            "isabetlilik değeri: 0.814\n"
          ],
          "name": "stdout"
        }
      ]
    },
    {
      "cell_type": "code",
      "metadata": {
        "colab": {
          "base_uri": "https://localhost:8080/",
          "height": 317
        },
        "id": "SmC7p_lfapgb",
        "outputId": "50e7488b-3821-41d6-c7ef-26cad0bf719c"
      },
      "source": [
        "ComplementNB_confusion1= sns.heatmap(confusion_matrix(y_test,Complement_y_pred1), annot=True, fmt='g');\n",
        "print(\"ComplementNB için confusion_matrix :\\n\\n\",ComplementNB_confusion1)"
      ],
      "execution_count": 363,
      "outputs": [
        {
          "output_type": "stream",
          "text": [
            "ComplementNB için confusion_matrix :\n",
            "\n",
            " AxesSubplot(0.125,0.125;0.62x0.755)\n"
          ],
          "name": "stdout"
        },
        {
          "output_type": "display_data",
          "data": {
            "image/png": "[encoded data removed]",
            "text/plain": [
              "<Figure size 432x288 with 2 Axes>"
            ]
          },
          "metadata": {
            "tags": [],
            "needs_background": "light"
          }
        }
      ]
    },
    {
      "cell_type": "code",
      "metadata": {
        "colab": {
          "base_uri": "https://localhost:8080/",
          "height": 294
        },
        "id": "MDiwHCwHawG6",
        "outputId": "c5e0a55a-f4e2-43aa-d9e3-d27912fe9369"
      },
      "source": [
        "ypo,dpo,esikDeger = roc_curve(y_test,Complement_y_pred1)\n",
        "aucDegeri = auc(ypo,dpo)\n",
        "plt.figure()\n",
        "plt.plot(ypo,dpo,label = \"AUC %0.2f\" %aucDegeri)\n",
        "plt.plot([0,1],[0,1],\"k--\")\n",
        "plt.xlim([0.0,1.0])\n",
        "plt.ylim([0.0,1.05])\n",
        "plt.xlabel(\"Yanlış Pozitif Oranı(YPO)\")\n",
        "plt.ylabel(\"Doğru Pozitif Oranı(DPO)\")\n",
        "plt.title(\"ROC Eğrisi\")\n",
        "plt.legend(loc = \"best\")\n",
        "plt.show()"
      ],
      "execution_count": null,
      "outputs": [
        {
          "output_type": "display_data",
          "data": {
            "image/png": "[encoded data removed]",
            "text/plain": [
              "<Figure size 432x288 with 1 Axes>"
            ]
          },
          "metadata": {
            "tags": [],
            "needs_background": "light"
          }
        }
      ]
    },
    {
      "cell_type": "code",
      "metadata": {
        "colab": {
          "base_uri": "https://localhost:8080/"
        },
        "id": "rBBOZ5Tbh4fQ",
        "outputId": "f0a9ddbf-6d03-4e67-8665-2b4ae07a02c6"
      },
      "source": [
        "print(classification_report(y_test,Complement_y_pred1))"
      ],
      "execution_count": 365,
      "outputs": [
        {
          "output_type": "stream",
          "text": [
            "              precision    recall  f1-score   support\n",
            "\n",
            "           0       0.83      0.97      0.89      2416\n",
            "           1       0.57      0.18      0.28       584\n",
            "\n",
            "    accuracy                           0.81      3000\n",
            "   macro avg       0.70      0.57      0.58      3000\n",
            "weighted avg       0.78      0.81      0.77      3000\n",
            "\n"
          ],
          "name": "stdout"
        }
      ]
    },
    {
      "cell_type": "markdown",
      "metadata": {
        "id": "F5ib91sha5UA"
      },
      "source": [
        "BernoulliNB için Model Tuning"
      ]
    },
    {
      "cell_type": "code",
      "metadata": {
        "colab": {
          "base_uri": "https://localhost:8080/"
        },
        "id": "16B-Ks5Ba7Qa",
        "outputId": "5d732cde-92e7-46f2-f9b1-097279c46509"
      },
      "source": [
        "tuned_parameters4 = [{'alpha' :np.logspace(-9,9,100)}]\n",
        "\n",
        "cValidation_search4 = GridSearchCV(Bernoulli_siniflandirici, tuned_parameters4, cv=10, scoring ='accuracy',n_jobs=-1,error_score=0)\n",
        "cValidation_search4.fit(X_train, y_train) "
      ],
      "execution_count": null,
      "outputs": [
        {
          "output_type": "execute_result",
          "data": {
            "text/plain": [
              "GridSearchCV(cv=10, error_score=0,\n",
              "             estimator=BernoulliNB(alpha=1.0, binarize=0.0, class_prior=None,\n",
              "                                   fit_prior=True),\n",
              "             iid='deprecated', n_jobs=-1,\n",
              "             param_grid=[{'alpha': array([1.00000000e-09, 1.51991108e-09, 2.31012970e-09, 3.51119173e-09,\n",
              "       5.33669923e-09, 8.11130831e-09, 1.23284674e-08, 1.87381742e-08,\n",
              "       2.84803587e-08, 4.32876128e-08, 6.57933225e-08, 1.00000000e-07,\n",
              "       1.51...\n",
              "       3.51119173e+05, 5.33669923e+05, 8.11130831e+05, 1.23284674e+06,\n",
              "       1.87381742e+06, 2.84803587e+06, 4.32876128e+06, 6.57933225e+06,\n",
              "       1.00000000e+07, 1.51991108e+07, 2.31012970e+07, 3.51119173e+07,\n",
              "       5.33669923e+07, 8.11130831e+07, 1.23284674e+08, 1.87381742e+08,\n",
              "       2.84803587e+08, 4.32876128e+08, 6.57933225e+08, 1.00000000e+09])}],\n",
              "             pre_dispatch='2*n_jobs', refit=True, return_train_score=False,\n",
              "             scoring='accuracy', verbose=0)"
            ]
          },
          "metadata": {
            "tags": []
          },
          "execution_count": 283
        }
      ]
    },
    {
      "cell_type": "code",
      "metadata": {
        "colab": {
          "base_uri": "https://localhost:8080/"
        },
        "id": "oF2bl6Bwa7Qc",
        "outputId": "c65234e7-5075-455c-d95d-4227e5135453"
      },
      "source": [
        "print('En iyi model : ', cValidation_search4.best_params_)\n",
        "print('Bu modelin ortalama skoru (accuracy) :', cValidation_search4.best_score_)"
      ],
      "execution_count": null,
      "outputs": [
        {
          "output_type": "stream",
          "text": [
            "En iyi model :  {'alpha': 81.11308307896888}\n",
            "Bu modelin ortalama skoru (accuracy) : 0.8160000000000001\n"
          ],
          "name": "stdout"
        }
      ]
    },
    {
      "cell_type": "code",
      "metadata": {
        "id": "QBASI0a7a7Qd"
      },
      "source": [
        "Bernoulli_siniflandirici1 = BernoulliNB(alpha=81.11308307896888)\n",
        "Bernoulli_siniflandirici1.fit(X_train,y_train)\n",
        "Bernoulli_y_pred1 = Bernoulli_siniflandirici1.predict(X_test) "
      ],
      "execution_count": null,
      "outputs": []
    },
    {
      "cell_type": "code",
      "metadata": {
        "colab": {
          "base_uri": "https://localhost:8080/"
        },
        "id": "uwoFRwNHa7Qe",
        "outputId": "f135c83f-5a82-40cd-b295-cf7fdd8f2c4c"
      },
      "source": [
        "print('isabetlilik değeri:', accuracy_score(y_test,Bernoulli_y_pred1))"
      ],
      "execution_count": null,
      "outputs": [
        {
          "output_type": "stream",
          "text": [
            "isabetlilik değeri: 0.8286666666666667\n"
          ],
          "name": "stdout"
        }
      ]
    },
    {
      "cell_type": "code",
      "metadata": {
        "colab": {
          "base_uri": "https://localhost:8080/",
          "height": 317
        },
        "id": "nUvtzFwKbG3h",
        "outputId": "c44e5c32-2045-47e1-fc94-7cc2111d90c4"
      },
      "source": [
        "BernoulliNB_confusion1= sns.heatmap(confusion_matrix(y_test,Bernoulli_y_pred1), annot=True, fmt='g');\n",
        "print(\"BernoulliNB için confusion_matrix :\\n\\n\",BernoulliNB_confusion1)"
      ],
      "execution_count": 364,
      "outputs": [
        {
          "output_type": "stream",
          "text": [
            "BernoulliNB için confusion_matrix :\n",
            "\n",
            " AxesSubplot(0.125,0.125;0.62x0.755)\n"
          ],
          "name": "stdout"
        },
        {
          "output_type": "display_data",
          "data": {
            "image/png": "[encoded data removed]",
            "text/plain": [
              "<Figure size 432x288 with 2 Axes>"
            ]
          },
          "metadata": {
            "tags": [],
            "needs_background": "light"
          }
        }
      ]
    },
    {
      "cell_type": "code",
      "metadata": {
        "colab": {
          "base_uri": "https://localhost:8080/",
          "height": 294
        },
        "id": "e8i9BbkNa7Qf",
        "outputId": "56cdd62a-9bc2-484c-8459-a8366695ff8f"
      },
      "source": [
        "ypo,dpo,esikDeger = roc_curve(y_test,Bernoulli_y_pred1)\n",
        "aucDegeri = auc(ypo,dpo)\n",
        "plt.figure()\n",
        "plt.plot(ypo,dpo,label = \"AUC %0.2f\" %aucDegeri)\n",
        "plt.plot([0,1],[0,1],\"k--\")\n",
        "plt.xlim([0.0,1.0])\n",
        "plt.ylim([0.0,1.05])\n",
        "plt.xlabel(\"Yanlış Pozitif Oranı(YPO)\")\n",
        "plt.ylabel(\"Doğru Pozitif Oranı(DPO)\")\n",
        "plt.title(\"ROC Eğrisi\")\n",
        "plt.legend(loc = \"best\")\n",
        "plt.show()"
      ],
      "execution_count": null,
      "outputs": [
        {
          "output_type": "display_data",
          "data": {
            "image/png": "[encoded data removed]",
            "text/plain": [
              "<Figure size 432x288 with 1 Axes>"
            ]
          },
          "metadata": {
            "tags": [],
            "needs_background": "light"
          }
        }
      ]
    },
    {
      "cell_type": "code",
      "metadata": {
        "colab": {
          "base_uri": "https://localhost:8080/"
        },
        "id": "yw1ARyJciGi0",
        "outputId": "e101befb-f3ad-45ed-e8dd-f70180f27cc5"
      },
      "source": [
        "print(classification_report(y_test,Bernoulli_y_pred1))"
      ],
      "execution_count": 366,
      "outputs": [
        {
          "output_type": "stream",
          "text": [
            "              precision    recall  f1-score   support\n",
            "\n",
            "           0       0.85      0.96      0.90      2416\n",
            "           1       0.63      0.29      0.40       584\n",
            "\n",
            "    accuracy                           0.83      3000\n",
            "   macro avg       0.74      0.62      0.65      3000\n",
            "weighted avg       0.81      0.83      0.80      3000\n",
            "\n"
          ],
          "name": "stdout"
        }
      ]
    },
    {
      "cell_type": "code",
      "metadata": {
        "id": "KwpWQp3hJT_7"
      },
      "source": [
        "#Yeni parametreler ile kurulmuş modeller incelendiğinde isabetlilik skoru en yüksek olan 0.8286 isabetlilik skoruna sahip BernoulliNB ile kurulan modeldir.\n",
        "#GaussianNB ile kurulan model 2472 doğru tahmin yaparken MultinomimalNB ile kurulan model 2461, ComplementNB ile kurulan model 2442 ve BernoulliNB ile kurulan model 2486 doğru sınıflandırma yapmıştır.\n",
        "#AUC skoru en yüksek olan model 0.63 ile GaussianNB'dir.\n",
        "#Yeni paremetreler ile kurulan modeller arasında en çok doğru sınıflandırma yapan BernoulliNB ile kurulan model olduğu görülebilir.\n",
        "#f1-score'u en yüksek olan model 0.41 ile GaussianNB'dir\n",
        "#Naive Bayes ile kurulan modellerin isabetlilik skoru artarken, \n",
        "#tüm modellerin performanslarına bakıldığında bankada kalan müşterileri tahmin etme gücü artarken bankadan ayrılan müşterileri tahmin etme gücü azalmıştır."
      ],
      "execution_count": null,
      "outputs": []
    }
  ]
}